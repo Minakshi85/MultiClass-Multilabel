{
  "nbformat": 4,
  "nbformat_minor": 0,
  "metadata": {
    "colab": {
      "name": "Project 1 : Multiclass Multilabel prediction.ipynb",
      "provenance": [],
      "collapsed_sections": [],
      "machine_shape": "hm",
      "include_colab_link": true
    },
    "kernelspec": {
      "name": "python3",
      "display_name": "Python 3"
    },
    "accelerator": "GPU"
  },
  "cells": [
    {
      "cell_type": "markdown",
      "metadata": {
        "id": "view-in-github",
        "colab_type": "text"
      },
      "source": [
        "<a href=\"https://colab.research.google.com/github/Minakshi85/MultiClass-Multilabel/blob/master/Project_1_Multiclass_Multilabel_prediction.ipynb\" target=\"_parent\"><img src=\"https://colab.research.google.com/assets/colab-badge.svg\" alt=\"Open In Colab\"/></a>"
      ]
    },
    {
      "cell_type": "markdown",
      "metadata": {
        "id": "Iw9KfHQxyRAX",
        "colab_type": "text"
      },
      "source": [
        "## **Multiclass Multilabel prediction For stack overflow Questions**"
      ]
    },
    {
      "cell_type": "code",
      "metadata": {
        "id": "9tL9YZcAmrn6",
        "colab_type": "code",
        "colab": {}
      },
      "source": [
        "# import libraries\n",
        "# Basic libraries \n",
        "import pandas as pd\n",
        "import numpy as np\n",
        "\n",
        "# regex for text cleaning \n",
        "import re\n",
        "\n",
        "# preprocessing libraris\n",
        "from keras.preprocessing.text import Tokenizer\n",
        "from keras.preprocessing.sequence import pad_sequences\n",
        "from keras import utils\n",
        "\n",
        "# Model building libraries from keras\n",
        "from keras.layers import Embedding, Conv1D, GlobalMaxPooling1D, Dense, Dropout, Activation\n",
        "from keras.layers import Input, Dense, Embedding, LSTM\n",
        "from keras.models import Model\n",
        "from keras.models import Sequential\n",
        "from keras.callbacks import ModelCheckpoint, EarlyStopping\n",
        "from keras.models import load_model\n",
        "\n",
        "# word count\n",
        "from nltk import word_tokenize\n",
        "\n",
        "#train test split\n",
        "from sklearn.model_selection import train_test_split\n",
        "\n",
        "# converting list into labels\n",
        "from mlxtend.preprocessing import TransactionEncoder"
      ],
      "execution_count": 0,
      "outputs": []
    },
    {
      "cell_type": "code",
      "metadata": {
        "id": "R251PEh56K_O",
        "colab_type": "code",
        "colab": {}
      },
      "source": [
        "# downloads the dataset from dropbox\n",
        "! wget https://www.dropbox.com/s/5721wcs2guuykzl/stacksample.zip?dl=0"
      ],
      "execution_count": 0,
      "outputs": []
    },
    {
      "cell_type": "code",
      "metadata": {
        "id": "oIV-Bd1U6_vc",
        "colab_type": "code",
        "colab": {}
      },
      "source": [
        "# unzips the contents\n",
        "!unzip /content/stacksample.zip?dl=0"
      ],
      "execution_count": 0,
      "outputs": []
    },
    {
      "cell_type": "code",
      "metadata": {
        "id": "4JCHLyWm4rVR",
        "colab_type": "code",
        "colab": {}
      },
      "source": [
        "!rm /content/stacksample.zip?dl=0"
      ],
      "execution_count": 0,
      "outputs": []
    },
    {
      "cell_type": "code",
      "metadata": {
        "id": "ixYzFUfn7bCD",
        "colab_type": "code",
        "colab": {}
      },
      "source": [
        "# reads tag and question using pandas\n",
        "tags = pd.read_csv(r'/content/Tags.csv')\n",
        "ques = pd.read_csv(r'/content/Questions.csv', encoding='latin-1')\n",
        "#ans = pd.read_csv('/content/Answers.csv', encoding='latin-1')"
      ],
      "execution_count": 0,
      "outputs": []
    },
    {
      "cell_type": "code",
      "metadata": {
        "id": "Uzz7jHZqvJ6Z",
        "colab_type": "code",
        "outputId": "7b67a120-2b05-4df3-c924-2bb2ebabe73e",
        "colab": {
          "base_uri": "https://localhost:8080/",
          "height": 33
        }
      },
      "source": [
        "tags.shape, ques.shape "
      ],
      "execution_count": 6,
      "outputs": [
        {
          "output_type": "execute_result",
          "data": {
            "text/plain": [
              "((3750994, 2), (1264216, 7))"
            ]
          },
          "metadata": {
            "tags": []
          },
          "execution_count": 6
        }
      ]
    },
    {
      "cell_type": "code",
      "metadata": {
        "id": "rPM0KykX7kWO",
        "colab_type": "code",
        "colab": {}
      },
      "source": [
        "tags.head()"
      ],
      "execution_count": 0,
      "outputs": []
    },
    {
      "cell_type": "code",
      "metadata": {
        "id": "tuuQ_S8x5eZW",
        "colab_type": "code",
        "colab": {}
      },
      "source": [
        "# Top 10 tags \n",
        "k = tags.Tag.value_counts().nlargest(10) #k = inner.Tag.value_counts().head(10) \n",
        "l1 = list(k.index)\n",
        "l1 "
      ],
      "execution_count": 0,
      "outputs": []
    },
    {
      "cell_type": "code",
      "metadata": {
        "id": "aT9dz_od6esv",
        "colab_type": "code",
        "outputId": "ac1267e6-4f21-4b6d-caaa-4edb16fb4967",
        "colab": {
          "base_uri": "https://localhost:8080/",
          "height": 33
        }
      },
      "source": [
        "# separates top 10 tags\n",
        "tags=tags[tags['Tag'].isin(l1)]\n",
        "tags.shape"
      ],
      "execution_count": 9,
      "outputs": [
        {
          "output_type": "execute_result",
          "data": {
            "text/plain": [
              "(826739, 2)"
            ]
          },
          "metadata": {
            "tags": []
          },
          "execution_count": 9
        }
      ]
    },
    {
      "cell_type": "code",
      "metadata": {
        "id": "wctZnLot6pZe",
        "colab_type": "code",
        "colab": {}
      },
      "source": [
        "#groupby for multilabel\n",
        "tag_ques=tags.groupby('Id',as_index=False)['Tag'].agg(lambda x:x.tolist())"
      ],
      "execution_count": 0,
      "outputs": []
    },
    {
      "cell_type": "code",
      "metadata": {
        "id": "7ro0jIP57NbI",
        "colab_type": "code",
        "colab": {}
      },
      "source": [
        "print(\"Shape of tags after grouping:\",tag_ques.shape)\n",
        "tag_ques.head()"
      ],
      "execution_count": 0,
      "outputs": []
    },
    {
      "cell_type": "code",
      "metadata": {
        "id": "8aHIBC7A7utU",
        "colab_type": "code",
        "outputId": "8f4a0272-d2b0-459f-e379-7827639b8dd8",
        "colab": {
          "base_uri": "https://localhost:8080/",
          "height": 33
        }
      },
      "source": [
        "# encoder for converting tags into 1 and 0\n",
        "te=TransactionEncoder()\n",
        "te.fit(tag_ques['Tag'])"
      ],
      "execution_count": 12,
      "outputs": [
        {
          "output_type": "execute_result",
          "data": {
            "text/plain": [
              "TransactionEncoder()"
            ]
          },
          "metadata": {
            "tags": []
          },
          "execution_count": 12
        }
      ]
    },
    {
      "cell_type": "code",
      "metadata": {
        "id": "wdMpyZUX7unV",
        "colab_type": "code",
        "outputId": "9c971b73-21de-4f54-9532-1e31036b2e7a",
        "colab": {
          "base_uri": "https://localhost:8080/",
          "height": 297
        }
      },
      "source": [
        "# merge tables ques and tag_ques on 'Id'\n",
        "inner = pd.merge(left=ques,right=tag_ques,how='left', on='Id')\n",
        "print(inner.shape)\n",
        "inner.head()"
      ],
      "execution_count": 18,
      "outputs": [
        {
          "output_type": "stream",
          "text": [
            "(1264216, 8)\n"
          ],
          "name": "stdout"
        },
        {
          "output_type": "execute_result",
          "data": {
            "text/html": [
              "<div>\n",
              "<style scoped>\n",
              "    .dataframe tbody tr th:only-of-type {\n",
              "        vertical-align: middle;\n",
              "    }\n",
              "\n",
              "    .dataframe tbody tr th {\n",
              "        vertical-align: top;\n",
              "    }\n",
              "\n",
              "    .dataframe thead th {\n",
              "        text-align: right;\n",
              "    }\n",
              "</style>\n",
              "<table border=\"1\" class=\"dataframe\">\n",
              "  <thead>\n",
              "    <tr style=\"text-align: right;\">\n",
              "      <th></th>\n",
              "      <th>Id</th>\n",
              "      <th>OwnerUserId</th>\n",
              "      <th>CreationDate</th>\n",
              "      <th>ClosedDate</th>\n",
              "      <th>Score</th>\n",
              "      <th>Title</th>\n",
              "      <th>Body</th>\n",
              "      <th>Tag</th>\n",
              "    </tr>\n",
              "  </thead>\n",
              "  <tbody>\n",
              "    <tr>\n",
              "      <th>0</th>\n",
              "      <td>80</td>\n",
              "      <td>26.0</td>\n",
              "      <td>2008-08-01T13:57:07Z</td>\n",
              "      <td>NaN</td>\n",
              "      <td>26</td>\n",
              "      <td>SQLStatement.execute() - multiple queries in o...</td>\n",
              "      <td>&lt;p&gt;I've written a database generation script i...</td>\n",
              "      <td>NaN</td>\n",
              "    </tr>\n",
              "    <tr>\n",
              "      <th>1</th>\n",
              "      <td>90</td>\n",
              "      <td>58.0</td>\n",
              "      <td>2008-08-01T14:41:24Z</td>\n",
              "      <td>2012-12-26T03:45:49Z</td>\n",
              "      <td>144</td>\n",
              "      <td>Good branching and merging tutorials for Torto...</td>\n",
              "      <td>&lt;p&gt;Are there any really good tutorials explain...</td>\n",
              "      <td>NaN</td>\n",
              "    </tr>\n",
              "    <tr>\n",
              "      <th>2</th>\n",
              "      <td>120</td>\n",
              "      <td>83.0</td>\n",
              "      <td>2008-08-01T15:50:08Z</td>\n",
              "      <td>NaN</td>\n",
              "      <td>21</td>\n",
              "      <td>ASP.NET Site Maps</td>\n",
              "      <td>&lt;p&gt;Has anyone got experience creating &lt;strong&gt;...</td>\n",
              "      <td>NaN</td>\n",
              "    </tr>\n",
              "    <tr>\n",
              "      <th>3</th>\n",
              "      <td>180</td>\n",
              "      <td>2089740.0</td>\n",
              "      <td>2008-08-01T18:42:19Z</td>\n",
              "      <td>NaN</td>\n",
              "      <td>53</td>\n",
              "      <td>Function for creating color wheels</td>\n",
              "      <td>&lt;p&gt;This is something I've pseudo-solved many t...</td>\n",
              "      <td>NaN</td>\n",
              "    </tr>\n",
              "    <tr>\n",
              "      <th>4</th>\n",
              "      <td>260</td>\n",
              "      <td>91.0</td>\n",
              "      <td>2008-08-01T23:22:08Z</td>\n",
              "      <td>NaN</td>\n",
              "      <td>49</td>\n",
              "      <td>Adding scripting functionality to .NET applica...</td>\n",
              "      <td>&lt;p&gt;I have a little game written in C#. It uses...</td>\n",
              "      <td>[c#]</td>\n",
              "    </tr>\n",
              "  </tbody>\n",
              "</table>\n",
              "</div>"
            ],
            "text/plain": [
              "    Id  OwnerUserId  ...                                               Body   Tag\n",
              "0   80         26.0  ...  <p>I've written a database generation script i...   NaN\n",
              "1   90         58.0  ...  <p>Are there any really good tutorials explain...   NaN\n",
              "2  120         83.0  ...  <p>Has anyone got experience creating <strong>...   NaN\n",
              "3  180    2089740.0  ...  <p>This is something I've pseudo-solved many t...   NaN\n",
              "4  260         91.0  ...  <p>I have a little game written in C#. It uses...  [c#]\n",
              "\n",
              "[5 rows x 8 columns]"
            ]
          },
          "metadata": {
            "tags": []
          },
          "execution_count": 18
        }
      ]
    },
    {
      "cell_type": "code",
      "metadata": {
        "id": "EDP_AD7c7vF1",
        "colab_type": "code",
        "colab": {
          "base_uri": "https://localhost:8080/",
          "height": 33
        },
        "outputId": "15bc969a-2100-43fe-9561-9813b2463831"
      },
      "source": [
        "#removes NA's\n",
        "inner.dropna(inplace=True)\n",
        "inner.shape"
      ],
      "execution_count": 19,
      "outputs": [
        {
          "output_type": "execute_result",
          "data": {
            "text/plain": [
              "(38650, 8)"
            ]
          },
          "metadata": {
            "tags": []
          },
          "execution_count": 19
        }
      ]
    },
    {
      "cell_type": "code",
      "metadata": {
        "id": "r2Wdh7tTwJQM",
        "colab_type": "code",
        "outputId": "d24db85f-1a17-44ec-a30e-1dc1adfb320c",
        "colab": {
          "base_uri": "https://localhost:8080/",
          "height": 196
        }
      },
      "source": [
        "# merge title and body for processing\n",
        "inner['content'] = inner['Title'] + inner['Body']\n",
        "#drop unwanted fiels and reset table index\n",
        "inner.drop(['OwnerUserId','CreationDate','ClosedDate','Score', 'Body','Title'], axis = 1, inplace =True)\n",
        "inner = inner.reset_index(drop=True)\n",
        "inner.head()"
      ],
      "execution_count": 20,
      "outputs": [
        {
          "output_type": "execute_result",
          "data": {
            "text/html": [
              "<div>\n",
              "<style scoped>\n",
              "    .dataframe tbody tr th:only-of-type {\n",
              "        vertical-align: middle;\n",
              "    }\n",
              "\n",
              "    .dataframe tbody tr th {\n",
              "        vertical-align: top;\n",
              "    }\n",
              "\n",
              "    .dataframe thead th {\n",
              "        text-align: right;\n",
              "    }\n",
              "</style>\n",
              "<table border=\"1\" class=\"dataframe\">\n",
              "  <thead>\n",
              "    <tr style=\"text-align: right;\">\n",
              "      <th></th>\n",
              "      <th>Id</th>\n",
              "      <th>Tag</th>\n",
              "      <th>content</th>\n",
              "    </tr>\n",
              "  </thead>\n",
              "  <tbody>\n",
              "    <tr>\n",
              "      <th>0</th>\n",
              "      <td>4080</td>\n",
              "      <td>[java]</td>\n",
              "      <td>What code analysis tools do you use for your J...</td>\n",
              "    </tr>\n",
              "    <tr>\n",
              "      <th>1</th>\n",
              "      <td>7990</td>\n",
              "      <td>[c#]</td>\n",
              "      <td>Printing from a .NET Service&lt;p&gt;I am working on...</td>\n",
              "    </tr>\n",
              "    <tr>\n",
              "      <th>2</th>\n",
              "      <td>15880</td>\n",
              "      <td>[c#]</td>\n",
              "      <td>Read from .msg files&lt;p&gt;I need to read from Out...</td>\n",
              "    </tr>\n",
              "    <tr>\n",
              "      <th>3</th>\n",
              "      <td>16140</td>\n",
              "      <td>[java]</td>\n",
              "      <td>What's the best way to get started with OSGI?&lt;...</td>\n",
              "    </tr>\n",
              "    <tr>\n",
              "      <th>4</th>\n",
              "      <td>23250</td>\n",
              "      <td>[c#]</td>\n",
              "      <td>When do you use the \"this\" keyword?&lt;p&gt;I was cu...</td>\n",
              "    </tr>\n",
              "  </tbody>\n",
              "</table>\n",
              "</div>"
            ],
            "text/plain": [
              "      Id     Tag                                            content\n",
              "0   4080  [java]  What code analysis tools do you use for your J...\n",
              "1   7990    [c#]  Printing from a .NET Service<p>I am working on...\n",
              "2  15880    [c#]  Read from .msg files<p>I need to read from Out...\n",
              "3  16140  [java]  What's the best way to get started with OSGI?<...\n",
              "4  23250    [c#]  When do you use the \"this\" keyword?<p>I was cu..."
            ]
          },
          "metadata": {
            "tags": []
          },
          "execution_count": 20
        }
      ]
    },
    {
      "cell_type": "markdown",
      "metadata": {
        "id": "jGECMzWd3fL7",
        "colab_type": "text"
      },
      "source": [
        "Preprocessing of text by removing html tags single "
      ]
    },
    {
      "cell_type": "code",
      "metadata": {
        "id": "8hJx5DqNm7FU",
        "colab_type": "code",
        "colab": {}
      },
      "source": [
        "# removing HTML tags \n",
        "TAG_RE = re.compile(r'<[^>]+>')\n",
        "\n",
        "def remove_tags(text):\n",
        "    return TAG_RE.sub('', text)"
      ],
      "execution_count": 0,
      "outputs": []
    },
    {
      "cell_type": "code",
      "metadata": {
        "id": "W8YOPIr2rYrL",
        "colab_type": "code",
        "colab": {}
      },
      "source": [
        "X_new = []\n",
        "for i in inner['content']:\n",
        "   X_new.append(remove_tags(i))"
      ],
      "execution_count": 0,
      "outputs": []
    },
    {
      "cell_type": "code",
      "metadata": {
        "id": "5YBWM5YT2mXW",
        "colab_type": "code",
        "colab": {}
      },
      "source": [
        "inner['refined_text'] = X_new"
      ],
      "execution_count": 0,
      "outputs": []
    },
    {
      "cell_type": "markdown",
      "metadata": {
        "id": "NiiWE08xxCQw",
        "colab_type": "text"
      },
      "source": [
        "**remove special characters, numbers, punctuations**"
      ]
    },
    {
      "cell_type": "code",
      "metadata": {
        "id": "FPa-k1Dp3dBp",
        "colab_type": "code",
        "outputId": "efafd350-10dd-4fa8-fad7-ea08f57a9fca",
        "colab": {
          "base_uri": "https://localhost:8080/",
          "height": 196
        }
      },
      "source": [
        "inner['refined_text'] = inner['refined_text'].str.replace(\"[^a-zA-Z]\", \" \")\n",
        "inner.head()"
      ],
      "execution_count": 24,
      "outputs": [
        {
          "output_type": "execute_result",
          "data": {
            "text/html": [
              "<div>\n",
              "<style scoped>\n",
              "    .dataframe tbody tr th:only-of-type {\n",
              "        vertical-align: middle;\n",
              "    }\n",
              "\n",
              "    .dataframe tbody tr th {\n",
              "        vertical-align: top;\n",
              "    }\n",
              "\n",
              "    .dataframe thead th {\n",
              "        text-align: right;\n",
              "    }\n",
              "</style>\n",
              "<table border=\"1\" class=\"dataframe\">\n",
              "  <thead>\n",
              "    <tr style=\"text-align: right;\">\n",
              "      <th></th>\n",
              "      <th>Id</th>\n",
              "      <th>Tag</th>\n",
              "      <th>content</th>\n",
              "      <th>refined_text</th>\n",
              "    </tr>\n",
              "  </thead>\n",
              "  <tbody>\n",
              "    <tr>\n",
              "      <th>0</th>\n",
              "      <td>4080</td>\n",
              "      <td>[java]</td>\n",
              "      <td>What code analysis tools do you use for your J...</td>\n",
              "      <td>What code analysis tools do you use for your J...</td>\n",
              "    </tr>\n",
              "    <tr>\n",
              "      <th>1</th>\n",
              "      <td>7990</td>\n",
              "      <td>[c#]</td>\n",
              "      <td>Printing from a .NET Service&lt;p&gt;I am working on...</td>\n",
              "      <td>Printing from a  NET ServiceI am working on a ...</td>\n",
              "    </tr>\n",
              "    <tr>\n",
              "      <th>2</th>\n",
              "      <td>15880</td>\n",
              "      <td>[c#]</td>\n",
              "      <td>Read from .msg files&lt;p&gt;I need to read from Out...</td>\n",
              "      <td>Read from  msg filesI need to read from Outloo...</td>\n",
              "    </tr>\n",
              "    <tr>\n",
              "      <th>3</th>\n",
              "      <td>16140</td>\n",
              "      <td>[java]</td>\n",
              "      <td>What's the best way to get started with OSGI?&lt;...</td>\n",
              "      <td>What s the best way to get started with OSGI W...</td>\n",
              "    </tr>\n",
              "    <tr>\n",
              "      <th>4</th>\n",
              "      <td>23250</td>\n",
              "      <td>[c#]</td>\n",
              "      <td>When do you use the \"this\" keyword?&lt;p&gt;I was cu...</td>\n",
              "      <td>When do you use the  this  keyword I was curio...</td>\n",
              "    </tr>\n",
              "  </tbody>\n",
              "</table>\n",
              "</div>"
            ],
            "text/plain": [
              "      Id  ...                                       refined_text\n",
              "0   4080  ...  What code analysis tools do you use for your J...\n",
              "1   7990  ...  Printing from a  NET ServiceI am working on a ...\n",
              "2  15880  ...  Read from  msg filesI need to read from Outloo...\n",
              "3  16140  ...  What s the best way to get started with OSGI W...\n",
              "4  23250  ...  When do you use the  this  keyword I was curio...\n",
              "\n",
              "[5 rows x 4 columns]"
            ]
          },
          "metadata": {
            "tags": []
          },
          "execution_count": 24
        }
      ]
    },
    {
      "cell_type": "code",
      "metadata": {
        "id": "vWpgi7S0o98-",
        "colab_type": "code",
        "outputId": "b5ae1a19-e692-4585-d3fb-768579be9723",
        "colab": {
          "base_uri": "https://localhost:8080/",
          "height": 134
        }
      },
      "source": [
        "X = inner['refined_text']\n",
        "# converts labels into binary encoded form\n",
        "Y = te.transform(inner['Tag']).astype(int)\n",
        "print(\"Shape of X and Y is:\", X.shape, Y.shape)\n",
        "X.head()"
      ],
      "execution_count": 25,
      "outputs": [
        {
          "output_type": "stream",
          "text": [
            "Shape of X and Y is: (38650,) (38650, 10)\n"
          ],
          "name": "stdout"
        },
        {
          "output_type": "execute_result",
          "data": {
            "text/plain": [
              "0    What code analysis tools do you use for your J...\n",
              "1    Printing from a  NET ServiceI am working on a ...\n",
              "2    Read from  msg filesI need to read from Outloo...\n",
              "3    What s the best way to get started with OSGI W...\n",
              "4    When do you use the  this  keyword I was curio...\n",
              "Name: refined_text, dtype: object"
            ]
          },
          "metadata": {
            "tags": []
          },
          "execution_count": 25
        }
      ]
    },
    {
      "cell_type": "code",
      "metadata": {
        "id": "mWzdXFNnvDNr",
        "colab_type": "code",
        "outputId": "b9e48708-bccc-433b-d030-f278ad3af93b",
        "colab": {
          "base_uri": "https://localhost:8080/",
          "height": 134
        }
      },
      "source": [
        "Y"
      ],
      "execution_count": 26,
      "outputs": [
        {
          "output_type": "execute_result",
          "data": {
            "text/plain": [
              "array([[0, 0, 0, ..., 0, 0, 0],\n",
              "       [0, 1, 0, ..., 0, 0, 0],\n",
              "       [0, 1, 0, ..., 0, 0, 0],\n",
              "       ...,\n",
              "       [0, 1, 0, ..., 0, 0, 0],\n",
              "       [0, 0, 0, ..., 0, 0, 1],\n",
              "       [0, 0, 1, ..., 0, 0, 0]])"
            ]
          },
          "metadata": {
            "tags": []
          },
          "execution_count": 26
        }
      ]
    },
    {
      "cell_type": "code",
      "metadata": {
        "id": "vUI59Bu7u-3q",
        "colab_type": "code",
        "outputId": "d8f41432-0db7-42cf-89ce-0ac7af81cf7b",
        "colab": {
          "base_uri": "https://localhost:8080/",
          "height": 33
        }
      },
      "source": [
        "x_train, x_test, y_train, y_test = train_test_split(X, Y, test_size = 0.2)\n",
        "x_train.shape, y_train.shape, x_test.shape, y_test.shape"
      ],
      "execution_count": 27,
      "outputs": [
        {
          "output_type": "execute_result",
          "data": {
            "text/plain": [
              "((30920,), (30920, 10), (7730,), (7730, 10))"
            ]
          },
          "metadata": {
            "tags": []
          },
          "execution_count": 27
        }
      ]
    },
    {
      "cell_type": "code",
      "metadata": {
        "id": "vQfJkKMrLGw7",
        "colab_type": "code",
        "outputId": "dd1b791b-1196-4ada-cbdd-991638a10b09",
        "colab": {
          "base_uri": "https://localhost:8080/",
          "height": 117
        }
      },
      "source": [
        "x_train.head()"
      ],
      "execution_count": 28,
      "outputs": [
        {
          "output_type": "execute_result",
          "data": {
            "text/plain": [
              "1777     How do I detect IE   using JQuery    Possible ...\n",
              "30714    Evaluate expression from a textboxHow to evalu...\n",
              "4924     Motivation for mutable in C     Possible Dupli...\n",
              "878      Visual Studio  Lost CDI have my original CD ho...\n",
              "23555    Cannot find symbol run  I have a bit knowledge...\n",
              "Name: refined_text, dtype: object"
            ]
          },
          "metadata": {
            "tags": []
          },
          "execution_count": 28
        }
      ]
    },
    {
      "cell_type": "code",
      "metadata": {
        "id": "j5m_EIUNvdNf",
        "colab_type": "code",
        "outputId": "88f02b42-bedf-472f-970d-aa1e16b37121",
        "colab": {
          "base_uri": "https://localhost:8080/",
          "height": 67
        }
      },
      "source": [
        "import nltk\n",
        "nltk.download('punkt')  "
      ],
      "execution_count": 29,
      "outputs": [
        {
          "output_type": "stream",
          "text": [
            "[nltk_data] Downloading package punkt to /root/nltk_data...\n",
            "[nltk_data]   Unzipping tokenizers/punkt.zip.\n"
          ],
          "name": "stdout"
        },
        {
          "output_type": "execute_result",
          "data": {
            "text/plain": [
              "True"
            ]
          },
          "metadata": {
            "tags": []
          },
          "execution_count": 29
        }
      ]
    },
    {
      "cell_type": "code",
      "metadata": {
        "id": "jMbnd7dDveSl",
        "colab_type": "code",
        "outputId": "f22a78b5-e9bc-42fe-b435-43594c240e42",
        "colab": {
          "base_uri": "https://localhost:8080/",
          "height": 33
        }
      },
      "source": [
        "# counting word counts in train\n",
        "sent_lens=[len(word_tokenize(x)) for x in x_train]\n",
        "print(max(sent_lens))"
      ],
      "execution_count": 30,
      "outputs": [
        {
          "output_type": "stream",
          "text": [
            "4592\n"
          ],
          "name": "stdout"
        }
      ]
    },
    {
      "cell_type": "code",
      "metadata": {
        "id": "Nt3Ft5hovhwY",
        "colab_type": "code",
        "outputId": "e25a54bc-859a-4502-842a-23df9a15c8ca",
        "colab": {
          "base_uri": "https://localhost:8080/",
          "height": 67
        }
      },
      "source": [
        "print(\"99 percentile :\", np.percentile(sent_lens,99))\n",
        "print(\"95 percentile :\", np.percentile(sent_lens,95))\n",
        "print(\"90 percentile: \", np.percentile(sent_lens,90))"
      ],
      "execution_count": 31,
      "outputs": [
        {
          "output_type": "stream",
          "text": [
            "99 percentile : 882.6200000000026\n",
            "95 percentile : 399.0\n",
            "90 percentile:  278.0\n"
          ],
          "name": "stdout"
        }
      ]
    },
    {
      "cell_type": "code",
      "metadata": {
        "id": "KR_-GGZZtiiz",
        "colab_type": "code",
        "colab": {}
      },
      "source": [
        "max_len = 400"
      ],
      "execution_count": 0,
      "outputs": []
    },
    {
      "cell_type": "markdown",
      "metadata": {
        "id": "ZdHVomVQxLgM",
        "colab_type": "text"
      },
      "source": [
        "**Tokenazation Process**"
      ]
    },
    {
      "cell_type": "code",
      "metadata": {
        "id": "X2ZkcDyYt4pO",
        "colab_type": "code",
        "colab": {}
      },
      "source": [
        "tok = Tokenizer(lower=True, char_level = False, split=' ')\n",
        "tok.fit_on_texts(x_train)\n",
        "# conversion into sequence\n",
        "seq_train = tok.texts_to_sequences(x_train)\n",
        "seq_test = tok.texts_to_sequences(x_test)"
      ],
      "execution_count": 0,
      "outputs": []
    },
    {
      "cell_type": "code",
      "metadata": {
        "id": "qbZURISQauko",
        "colab_type": "code",
        "colab": {}
      },
      "source": [
        "# padding\n",
        "seq_train_matrix = pad_sequences(seq_train,maxlen = max_len)\n",
        "seq_test_matrix = pad_sequences(seq_test,maxlen = max_len)"
      ],
      "execution_count": 0,
      "outputs": []
    },
    {
      "cell_type": "code",
      "metadata": {
        "id": "V4BV9n2rM2r2",
        "colab_type": "code",
        "outputId": "5011064e-52c6-435e-b154-78099ddc93b0",
        "colab": {
          "base_uri": "https://localhost:8080/",
          "height": 33
        }
      },
      "source": [
        "vocab_size=len(tok.word_index)\n",
        "vocab_size"
      ],
      "execution_count": 35,
      "outputs": [
        {
          "output_type": "execute_result",
          "data": {
            "text/plain": [
              "111615"
            ]
          },
          "metadata": {
            "tags": []
          },
          "execution_count": 35
        }
      ]
    },
    {
      "cell_type": "code",
      "metadata": {
        "id": "yMw2ahRGwJRV",
        "colab_type": "code",
        "colab": {}
      },
      "source": [
        "seq_train_matrix[2000]"
      ],
      "execution_count": 0,
      "outputs": []
    },
    {
      "cell_type": "markdown",
      "metadata": {
        "id": "hHeFmRJLxSo3",
        "colab_type": "text"
      },
      "source": [
        "**Parameters setting**"
      ]
    },
    {
      "cell_type": "code",
      "metadata": {
        "id": "Og4UVe0CwBWW",
        "colab_type": "code",
        "colab": {}
      },
      "source": [
        "# set parameters:\n",
        "#vocab_size\n",
        "batch_size = 128\n",
        "embedding_dims = 50\n",
        "filters = 250\n",
        "hidden_dims = 250\n",
        "kernel_size = 3\n",
        "epochs = 100"
      ],
      "execution_count": 0,
      "outputs": []
    },
    {
      "cell_type": "markdown",
      "metadata": {
        "id": "dNl4RYEnxhG-",
        "colab_type": "text"
      },
      "source": [
        "**Model Building**"
      ]
    },
    {
      "cell_type": "code",
      "metadata": {
        "id": "FHjVEhJ_FLvP",
        "colab_type": "code",
        "colab": {}
      },
      "source": [
        "model = Sequential()\n",
        "model.add(Embedding(vocab_size+1,\n",
        "                    embedding_dims,\n",
        "                    input_length = max_len))\n",
        "model.add(Dropout(0.2))\n",
        "model.add(Conv1D(filters,\n",
        "                 kernel_size,\n",
        "                 padding = 'valid',\n",
        "                 activation = 'relu',\n",
        "                 strides = 1))\n",
        "# we use max pooling:\n",
        "model.add(GlobalMaxPooling1D())\n",
        "\n",
        "# We add a vanilla hidden layer:\n",
        "model.add(Dense(256))\n",
        "model.add(Dropout(0.2))\n",
        "model.add(Activation('tanh'))\n",
        "\n",
        "model.add(Dense(128))\n",
        "model.add(Dropout(0.2))\n",
        "model.add(Activation('relu'))\n",
        "\n",
        "# We project onto a single unit output layer, and squash it with a sigmoid:\n",
        "model.add(Dense(10))\n",
        "model.add(Activation('sigmoid'))"
      ],
      "execution_count": 0,
      "outputs": []
    },
    {
      "cell_type": "code",
      "metadata": {
        "id": "dPR9hngwFzJ2",
        "colab_type": "code",
        "outputId": "2ae12c66-4ddf-4479-f896-1d00451a3915",
        "colab": {
          "base_uri": "https://localhost:8080/",
          "height": 552
        }
      },
      "source": [
        "model.summary()"
      ],
      "execution_count": 71,
      "outputs": [
        {
          "output_type": "stream",
          "text": [
            "Model: \"sequential_2\"\n",
            "_________________________________________________________________\n",
            "Layer (type)                 Output Shape              Param #   \n",
            "=================================================================\n",
            "embedding_2 (Embedding)      (None, 400, 50)           5580800   \n",
            "_________________________________________________________________\n",
            "dropout_4 (Dropout)          (None, 400, 50)           0         \n",
            "_________________________________________________________________\n",
            "conv1d_2 (Conv1D)            (None, 398, 250)          37750     \n",
            "_________________________________________________________________\n",
            "global_max_pooling1d_2 (Glob (None, 250)               0         \n",
            "_________________________________________________________________\n",
            "dense_4 (Dense)              (None, 256)               64256     \n",
            "_________________________________________________________________\n",
            "dropout_5 (Dropout)          (None, 256)               0         \n",
            "_________________________________________________________________\n",
            "activation_4 (Activation)    (None, 256)               0         \n",
            "_________________________________________________________________\n",
            "dense_5 (Dense)              (None, 128)               32896     \n",
            "_________________________________________________________________\n",
            "dropout_6 (Dropout)          (None, 128)               0         \n",
            "_________________________________________________________________\n",
            "activation_5 (Activation)    (None, 128)               0         \n",
            "_________________________________________________________________\n",
            "dense_6 (Dense)              (None, 10)                1290      \n",
            "_________________________________________________________________\n",
            "activation_6 (Activation)    (None, 10)                0         \n",
            "=================================================================\n",
            "Total params: 5,716,992\n",
            "Trainable params: 5,716,992\n",
            "Non-trainable params: 0\n",
            "_________________________________________________________________\n"
          ],
          "name": "stdout"
        }
      ]
    },
    {
      "cell_type": "code",
      "metadata": {
        "id": "HuNDy693FYgk",
        "colab_type": "code",
        "colab": {}
      },
      "source": [
        "model.compile(loss='binary_crossentropy',\n",
        "              optimizer='adam',\n",
        "              metrics=['accuracy'])"
      ],
      "execution_count": 0,
      "outputs": []
    },
    {
      "cell_type": "code",
      "metadata": {
        "id": "qy10QtdO7nFA",
        "colab_type": "code",
        "colab": {}
      },
      "source": [
        "cp = ModelCheckpoint('/content/best_model.h5', \n",
        "                             monitor='val_loss',\n",
        "                             verbose=1, \n",
        "                             save_best_only=True)"
      ],
      "execution_count": 0,
      "outputs": []
    },
    {
      "cell_type": "code",
      "metadata": {
        "id": "kwoHVd3T7mzc",
        "colab_type": "code",
        "colab": {}
      },
      "source": [
        "es = EarlyStopping(monitor='val_loss', \n",
        "                          patience=7,\n",
        "                          verbose=1)"
      ],
      "execution_count": 0,
      "outputs": []
    },
    {
      "cell_type": "code",
      "metadata": {
        "id": "RcHDixi2FZjD",
        "colab_type": "code",
        "outputId": "fc13e454-68d5-4d23-b1f2-bd2e9eaccc71",
        "colab": {
          "base_uri": "https://localhost:8080/",
          "height": 736
        }
      },
      "source": [
        "model.fit(seq_train_matrix, y_train,\n",
        "          batch_size=batch_size,\n",
        "          epochs=50,\n",
        "          validation_data=(seq_test_matrix, y_test),\n",
        "          callbacks = [es,cp])"
      ],
      "execution_count": 75,
      "outputs": [
        {
          "output_type": "stream",
          "text": [
            "Train on 30920 samples, validate on 7730 samples\n",
            "Epoch 1/50\n",
            "30920/30920 [==============================] - 4s 125us/step - loss: 0.2805 - acc: 0.9034 - val_loss: 0.1443 - val_acc: 0.9456\n",
            "\n",
            "Epoch 00001: val_loss improved from inf to 0.14428, saving model to /content/best_model.h5\n",
            "Epoch 2/50\n",
            "30920/30920 [==============================] - 3s 102us/step - loss: 0.1213 - acc: 0.9544 - val_loss: 0.1005 - val_acc: 0.9616\n",
            "\n",
            "Epoch 00002: val_loss improved from 0.14428 to 0.10048, saving model to /content/best_model.h5\n",
            "Epoch 3/50\n",
            "30920/30920 [==============================] - 3s 102us/step - loss: 0.0880 - acc: 0.9671 - val_loss: 0.0954 - val_acc: 0.9636\n",
            "\n",
            "Epoch 00003: val_loss improved from 0.10048 to 0.09537, saving model to /content/best_model.h5\n",
            "Epoch 4/50\n",
            "30920/30920 [==============================] - 3s 102us/step - loss: 0.0685 - acc: 0.9746 - val_loss: 0.1004 - val_acc: 0.9629\n",
            "\n",
            "Epoch 00004: val_loss did not improve from 0.09537\n",
            "Epoch 5/50\n",
            "30920/30920 [==============================] - 3s 102us/step - loss: 0.0527 - acc: 0.9804 - val_loss: 0.1079 - val_acc: 0.9623\n",
            "\n",
            "Epoch 00005: val_loss did not improve from 0.09537\n",
            "Epoch 6/50\n",
            "30920/30920 [==============================] - 3s 102us/step - loss: 0.0411 - acc: 0.9847 - val_loss: 0.1191 - val_acc: 0.9619\n",
            "\n",
            "Epoch 00006: val_loss did not improve from 0.09537\n",
            "Epoch 7/50\n",
            "30920/30920 [==============================] - 3s 102us/step - loss: 0.0319 - acc: 0.9884 - val_loss: 0.1329 - val_acc: 0.9597\n",
            "\n",
            "Epoch 00007: val_loss did not improve from 0.09537\n",
            "Epoch 8/50\n",
            "30920/30920 [==============================] - 3s 102us/step - loss: 0.0251 - acc: 0.9909 - val_loss: 0.1452 - val_acc: 0.9586\n",
            "\n",
            "Epoch 00008: val_loss did not improve from 0.09537\n",
            "Epoch 9/50\n",
            "30920/30920 [==============================] - 3s 102us/step - loss: 0.0198 - acc: 0.9929 - val_loss: 0.1608 - val_acc: 0.9576\n",
            "\n",
            "Epoch 00009: val_loss did not improve from 0.09537\n",
            "Epoch 10/50\n",
            "30920/30920 [==============================] - 3s 102us/step - loss: 0.0169 - acc: 0.9940 - val_loss: 0.1664 - val_acc: 0.9565\n",
            "\n",
            "Epoch 00010: val_loss did not improve from 0.09537\n",
            "Epoch 00010: early stopping\n"
          ],
          "name": "stdout"
        },
        {
          "output_type": "execute_result",
          "data": {
            "text/plain": [
              "<keras.callbacks.History at 0x7f429429c358>"
            ]
          },
          "metadata": {
            "tags": []
          },
          "execution_count": 75
        }
      ]
    },
    {
      "cell_type": "code",
      "metadata": {
        "id": "kLP7FivreZ70",
        "colab_type": "code",
        "colab": {}
      },
      "source": [
        "saved_model = load_model('/content/best_model.h5')"
      ],
      "execution_count": 0,
      "outputs": []
    },
    {
      "cell_type": "code",
      "metadata": {
        "id": "Q_nBWkEXbUof",
        "colab_type": "code",
        "colab": {}
      },
      "source": [
        "y_predicted = saved_model.predict(seq_test_matrix)"
      ],
      "execution_count": 0,
      "outputs": []
    },
    {
      "cell_type": "code",
      "metadata": {
        "id": "th3zJR7DdUnC",
        "colab_type": "code",
        "colab": {}
      },
      "source": [
        "y_label = np.where(y_predicted>0.5, 1,0)"
      ],
      "execution_count": 0,
      "outputs": []
    },
    {
      "cell_type": "code",
      "metadata": {
        "id": "DFS4KSpjcLN8",
        "colab_type": "code",
        "colab": {
          "base_uri": "https://localhost:8080/",
          "height": 33
        },
        "outputId": "7fdab71a-55fc-47fc-8ea9-8467da14f9ac"
      },
      "source": [
        "y_label[2389]"
      ],
      "execution_count": 94,
      "outputs": [
        {
          "output_type": "execute_result",
          "data": {
            "text/plain": [
              "array([0, 0, 0, 0, 0, 0, 1, 1, 0, 0])"
            ]
          },
          "metadata": {
            "tags": []
          },
          "execution_count": 94
        }
      ]
    },
    {
      "cell_type": "code",
      "metadata": {
        "id": "czWQJowHcoWi",
        "colab_type": "code",
        "colab": {
          "base_uri": "https://localhost:8080/",
          "height": 33
        },
        "outputId": "5a88628d-3331-4619-aa98-2b025eceacf9"
      },
      "source": [
        "y_test[2389]"
      ],
      "execution_count": 95,
      "outputs": [
        {
          "output_type": "execute_result",
          "data": {
            "text/plain": [
              "array([0, 0, 0, 0, 0, 0, 0, 1, 0, 0])"
            ]
          },
          "metadata": {
            "tags": []
          },
          "execution_count": 95
        }
      ]
    },
    {
      "cell_type": "code",
      "metadata": {
        "id": "2vtb5FlriPZU",
        "colab_type": "code",
        "colab": {}
      },
      "source": [
        "from sklearn.metrics import accuracy_score"
      ],
      "execution_count": 0,
      "outputs": []
    },
    {
      "cell_type": "code",
      "metadata": {
        "id": "5mdEAZpf_OtP",
        "colab_type": "code",
        "colab": {
          "base_uri": "https://localhost:8080/",
          "height": 33
        },
        "outputId": "9919583e-8f4a-4d46-f9cd-e40735bbc936"
      },
      "source": [
        "print(\"Accuracy Score :\", (accuracy_score(y_test, y_label))*100,\"%\")"
      ],
      "execution_count": 97,
      "outputs": [
        {
          "output_type": "stream",
          "text": [
            "Accuracy Score : 74.24320827943079 %\n"
          ],
          "name": "stdout"
        }
      ]
    },
    {
      "cell_type": "code",
      "metadata": {
        "id": "Wtcd9U-Clc3r",
        "colab_type": "code",
        "colab": {}
      },
      "source": [
        ""
      ],
      "execution_count": 0,
      "outputs": []
    },
    {
      "cell_type": "code",
      "metadata": {
        "id": "dAj2K_LqWgpf",
        "colab_type": "code",
        "colab": {}
      },
      "source": [
        ""
      ],
      "execution_count": 0,
      "outputs": []
    }
  ]
}