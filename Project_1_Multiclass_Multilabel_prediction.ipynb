{
  "nbformat": 4,
  "nbformat_minor": 0,
  "metadata": {
    "colab": {
      "name": "Project 1 : Multiclass Multilabel prediction.ipynb",
      "provenance": [],
      "collapsed_sections": [],
      "machine_shape": "hm",
      "include_colab_link": true
    },
    "kernelspec": {
      "name": "python3",
      "display_name": "Python 3"
    },
    "accelerator": "GPU"
  },
  "cells": [
    {
      "cell_type": "markdown",
      "metadata": {
        "id": "view-in-github",
        "colab_type": "text"
      },
      "source": [
        "<a href=\"https://colab.research.google.com/github/Minakshi85/MultiClass-Multilabel/blob/master/Project_1_Multiclass_Multilabel_prediction.ipynb\" target=\"_parent\"><img src=\"https://colab.research.google.com/assets/colab-badge.svg\" alt=\"Open In Colab\"/></a>"
      ]
    },
    {
      "cell_type": "code",
      "metadata": {
        "id": "9tL9YZcAmrn6",
        "colab_type": "code",
        "colab": {}
      },
      "source": [
        "import pandas as pd\n",
        "import numpy as np\n",
        "import matplotlib.pyplot as plt\n",
        "\n",
        "import re\n",
        "from bs4 import BeautifulSoup\n",
        "\n",
        "from keras.preprocessing.text import Tokenizer\n",
        "from keras.preprocessing.sequence import pad_sequences\n",
        "from keras import utils\n",
        "from keras.layers import Embedding, Conv1D, GlobalMaxPooling1D\n",
        "from keras.layers import Input, Dense, Embedding, LSTM, Activation, Dense, Dropout\n",
        "from keras.models import Model\n",
        "from keras.models import Sequential\n",
        "\n",
        "from nltk import word_tokenize\n",
        "\n",
        "\n",
        "from sklearn.model_selection import train_test_split\n",
        "from sklearn.preprocessing import LabelEncoder"
      ],
      "execution_count": 0,
      "outputs": []
    },
    {
      "cell_type": "code",
      "metadata": {
        "id": "R251PEh56K_O",
        "colab_type": "code",
        "outputId": "3f1b3444-3793-4027-ef41-a4f1b8901594",
        "colab": {
          "base_uri": "https://localhost:8080/",
          "height": 438
        }
      },
      "source": [
        "! wget https://www.dropbox.com/s/5721wcs2guuykzl/stacksample.zip?dl=0"
      ],
      "execution_count": 2,
      "outputs": [
        {
          "output_type": "stream",
          "text": [
            "--2020-01-09 09:48:14--  https://www.dropbox.com/s/5721wcs2guuykzl/stacksample.zip?dl=0\n",
            "Resolving www.dropbox.com (www.dropbox.com)... 162.125.8.1, 2620:100:6016:1::a27d:101\n",
            "Connecting to www.dropbox.com (www.dropbox.com)|162.125.8.1|:443... connected.\n",
            "HTTP request sent, awaiting response... 301 Moved Permanently\n",
            "Location: /s/raw/5721wcs2guuykzl/stacksample.zip [following]\n",
            "--2020-01-09 09:48:15--  https://www.dropbox.com/s/raw/5721wcs2guuykzl/stacksample.zip\n",
            "Reusing existing connection to www.dropbox.com:443.\n",
            "HTTP request sent, awaiting response... 302 Found\n",
            "Location: https://ucc0f73fd287d42de1c504ae4c77.dl.dropboxusercontent.com/cd/0/inline/Av0HkOiRIkyyuIAzootcVfZzou0xAA1_UvzyjPjqe6_8qMRTwWgNnO-62yGkkfAi92zsMCHhq9N3gIwHyUjhfk23lzjF0uHF1IH-koULaktWmA/file# [following]\n",
            "--2020-01-09 09:48:15--  https://ucc0f73fd287d42de1c504ae4c77.dl.dropboxusercontent.com/cd/0/inline/Av0HkOiRIkyyuIAzootcVfZzou0xAA1_UvzyjPjqe6_8qMRTwWgNnO-62yGkkfAi92zsMCHhq9N3gIwHyUjhfk23lzjF0uHF1IH-koULaktWmA/file\n",
            "Resolving ucc0f73fd287d42de1c504ae4c77.dl.dropboxusercontent.com (ucc0f73fd287d42de1c504ae4c77.dl.dropboxusercontent.com)... 162.125.1.6, 2620:100:6016:6::a27d:106\n",
            "Connecting to ucc0f73fd287d42de1c504ae4c77.dl.dropboxusercontent.com (ucc0f73fd287d42de1c504ae4c77.dl.dropboxusercontent.com)|162.125.1.6|:443... connected.\n",
            "HTTP request sent, awaiting response... 302 FOUND\n",
            "Location: /cd/0/inline2/Av3iLxxreDV41vcQv67BAowb-UMd5VHC7MJc7tJzsmP1DiM-lXbELooTVOWHBKs9fs8ArYTRmvcy3i4vt5yJWTG_U7vAmhIpYPerG_oZhIAdfyKZ8TewprWH8CmiXo4xQlzaRD3u69qAOIBN7D6pC6CfSctPTnpayzOcQRmfHX8RsAsekBID9Z10lGhxUKrvVtwD9Ur5FlChlybw9ynEI9MeUL6_tcNOyQtuJVJfedBc483KVRpAYTop6l6e9qt02d0TRflLoiY3h7Yxi0yF2zuoVSclCrU4JqaqsKJ1ptTZBXGZ8sEQqiWRyW2VsmJcsWHnRp4VRLvlF2zCRohN8Ock/file [following]\n",
            "--2020-01-09 09:48:16--  https://ucc0f73fd287d42de1c504ae4c77.dl.dropboxusercontent.com/cd/0/inline2/Av3iLxxreDV41vcQv67BAowb-UMd5VHC7MJc7tJzsmP1DiM-lXbELooTVOWHBKs9fs8ArYTRmvcy3i4vt5yJWTG_U7vAmhIpYPerG_oZhIAdfyKZ8TewprWH8CmiXo4xQlzaRD3u69qAOIBN7D6pC6CfSctPTnpayzOcQRmfHX8RsAsekBID9Z10lGhxUKrvVtwD9Ur5FlChlybw9ynEI9MeUL6_tcNOyQtuJVJfedBc483KVRpAYTop6l6e9qt02d0TRflLoiY3h7Yxi0yF2zuoVSclCrU4JqaqsKJ1ptTZBXGZ8sEQqiWRyW2VsmJcsWHnRp4VRLvlF2zCRohN8Ock/file\n",
            "Reusing existing connection to ucc0f73fd287d42de1c504ae4c77.dl.dropboxusercontent.com:443.\n",
            "HTTP request sent, awaiting response... 200 OK\n",
            "Length: 1231288519 (1.1G) [application/zip]\n",
            "Saving to: ‘stacksample.zip?dl=0’\n",
            "\n",
            "stacksample.zip?dl= 100%[===================>]   1.15G  17.4MB/s    in 68s     \n",
            "\n",
            "2020-01-09 09:49:25 (17.2 MB/s) - ‘stacksample.zip?dl=0’ saved [1231288519/1231288519]\n",
            "\n"
          ],
          "name": "stdout"
        }
      ]
    },
    {
      "cell_type": "code",
      "metadata": {
        "id": "oIV-Bd1U6_vc",
        "colab_type": "code",
        "outputId": "e120bb2c-cc94-4289-8c01-822d5154eaf5",
        "colab": {
          "base_uri": "https://localhost:8080/",
          "height": 84
        }
      },
      "source": [
        "!unzip /content/stacksample.zip?dl=0"
      ],
      "execution_count": 3,
      "outputs": [
        {
          "output_type": "stream",
          "text": [
            "Archive:  /content/stacksample.zip?dl=0\n",
            "  inflating: Answers.csv             \n",
            "  inflating: Questions.csv           \n",
            "  inflating: Tags.csv                \n"
          ],
          "name": "stdout"
        }
      ]
    },
    {
      "cell_type": "code",
      "metadata": {
        "id": "ixYzFUfn7bCD",
        "colab_type": "code",
        "colab": {}
      },
      "source": [
        "tags = pd.read_csv(r'/content/Tags.csv')\n",
        "ques = pd.read_csv(r'/content/Questions.csv', encoding='latin-1')\n",
        "ans = pd.read_csv('/content/Answers.csv', encoding='latin-1')"
      ],
      "execution_count": 0,
      "outputs": []
    },
    {
      "cell_type": "code",
      "metadata": {
        "id": "Uzz7jHZqvJ6Z",
        "colab_type": "code",
        "outputId": "b0e4c194-d9ac-492f-8146-28815da77bab",
        "colab": {
          "base_uri": "https://localhost:8080/",
          "height": 33
        }
      },
      "source": [
        "tags.shape, ques.shape, ans.shape"
      ],
      "execution_count": 5,
      "outputs": [
        {
          "output_type": "execute_result",
          "data": {
            "text/plain": [
              "((3750994, 2), (1264216, 7), (2014516, 6))"
            ]
          },
          "metadata": {
            "tags": []
          },
          "execution_count": 5
        }
      ]
    },
    {
      "cell_type": "code",
      "metadata": {
        "id": "rPM0KykX7kWO",
        "colab_type": "code",
        "outputId": "2044681c-6a39-4f1a-f008-dc2c5ee5419e",
        "colab": {
          "base_uri": "https://localhost:8080/",
          "height": 196
        }
      },
      "source": [
        "tags.head()"
      ],
      "execution_count": 6,
      "outputs": [
        {
          "output_type": "execute_result",
          "data": {
            "text/html": [
              "<div>\n",
              "<style scoped>\n",
              "    .dataframe tbody tr th:only-of-type {\n",
              "        vertical-align: middle;\n",
              "    }\n",
              "\n",
              "    .dataframe tbody tr th {\n",
              "        vertical-align: top;\n",
              "    }\n",
              "\n",
              "    .dataframe thead th {\n",
              "        text-align: right;\n",
              "    }\n",
              "</style>\n",
              "<table border=\"1\" class=\"dataframe\">\n",
              "  <thead>\n",
              "    <tr style=\"text-align: right;\">\n",
              "      <th></th>\n",
              "      <th>Id</th>\n",
              "      <th>Tag</th>\n",
              "    </tr>\n",
              "  </thead>\n",
              "  <tbody>\n",
              "    <tr>\n",
              "      <th>0</th>\n",
              "      <td>80</td>\n",
              "      <td>flex</td>\n",
              "    </tr>\n",
              "    <tr>\n",
              "      <th>1</th>\n",
              "      <td>80</td>\n",
              "      <td>actionscript-3</td>\n",
              "    </tr>\n",
              "    <tr>\n",
              "      <th>2</th>\n",
              "      <td>80</td>\n",
              "      <td>air</td>\n",
              "    </tr>\n",
              "    <tr>\n",
              "      <th>3</th>\n",
              "      <td>90</td>\n",
              "      <td>svn</td>\n",
              "    </tr>\n",
              "    <tr>\n",
              "      <th>4</th>\n",
              "      <td>90</td>\n",
              "      <td>tortoisesvn</td>\n",
              "    </tr>\n",
              "  </tbody>\n",
              "</table>\n",
              "</div>"
            ],
            "text/plain": [
              "   Id             Tag\n",
              "0  80            flex\n",
              "1  80  actionscript-3\n",
              "2  80             air\n",
              "3  90             svn\n",
              "4  90     tortoisesvn"
            ]
          },
          "metadata": {
            "tags": []
          },
          "execution_count": 6
        }
      ]
    },
    {
      "cell_type": "code",
      "metadata": {
        "id": "ufX5_AlhvYPs",
        "colab_type": "code",
        "outputId": "5dfc855d-4daa-4b8d-c9d6-a1f6ea8e3899",
        "colab": {
          "base_uri": "https://localhost:8080/",
          "height": 217
        }
      },
      "source": [
        "tags.Id.value_counts()"
      ],
      "execution_count": 7,
      "outputs": [
        {
          "output_type": "execute_result",
          "data": {
            "text/plain": [
              "7752920     5\n",
              "10853700    5\n",
              "33857210    5\n",
              "7154770     5\n",
              "15498360    5\n",
              "           ..\n",
              "31762860    1\n",
              "2761660     1\n",
              "19212700    1\n",
              "11137990    1\n",
              "8041330     1\n",
              "Name: Id, Length: 1264216, dtype: int64"
            ]
          },
          "metadata": {
            "tags": []
          },
          "execution_count": 7
        }
      ]
    },
    {
      "cell_type": "code",
      "metadata": {
        "id": "EDP_AD7c7vF1",
        "colab_type": "code",
        "outputId": "34ed6530-05c2-4fd0-9bda-5dbd259dd71a",
        "colab": {
          "base_uri": "https://localhost:8080/",
          "height": 280
        }
      },
      "source": [
        "ques.head()"
      ],
      "execution_count": 8,
      "outputs": [
        {
          "output_type": "execute_result",
          "data": {
            "text/html": [
              "<div>\n",
              "<style scoped>\n",
              "    .dataframe tbody tr th:only-of-type {\n",
              "        vertical-align: middle;\n",
              "    }\n",
              "\n",
              "    .dataframe tbody tr th {\n",
              "        vertical-align: top;\n",
              "    }\n",
              "\n",
              "    .dataframe thead th {\n",
              "        text-align: right;\n",
              "    }\n",
              "</style>\n",
              "<table border=\"1\" class=\"dataframe\">\n",
              "  <thead>\n",
              "    <tr style=\"text-align: right;\">\n",
              "      <th></th>\n",
              "      <th>Id</th>\n",
              "      <th>OwnerUserId</th>\n",
              "      <th>CreationDate</th>\n",
              "      <th>ClosedDate</th>\n",
              "      <th>Score</th>\n",
              "      <th>Title</th>\n",
              "      <th>Body</th>\n",
              "    </tr>\n",
              "  </thead>\n",
              "  <tbody>\n",
              "    <tr>\n",
              "      <th>0</th>\n",
              "      <td>80</td>\n",
              "      <td>26.0</td>\n",
              "      <td>2008-08-01T13:57:07Z</td>\n",
              "      <td>NaN</td>\n",
              "      <td>26</td>\n",
              "      <td>SQLStatement.execute() - multiple queries in o...</td>\n",
              "      <td>&lt;p&gt;I've written a database generation script i...</td>\n",
              "    </tr>\n",
              "    <tr>\n",
              "      <th>1</th>\n",
              "      <td>90</td>\n",
              "      <td>58.0</td>\n",
              "      <td>2008-08-01T14:41:24Z</td>\n",
              "      <td>2012-12-26T03:45:49Z</td>\n",
              "      <td>144</td>\n",
              "      <td>Good branching and merging tutorials for Torto...</td>\n",
              "      <td>&lt;p&gt;Are there any really good tutorials explain...</td>\n",
              "    </tr>\n",
              "    <tr>\n",
              "      <th>2</th>\n",
              "      <td>120</td>\n",
              "      <td>83.0</td>\n",
              "      <td>2008-08-01T15:50:08Z</td>\n",
              "      <td>NaN</td>\n",
              "      <td>21</td>\n",
              "      <td>ASP.NET Site Maps</td>\n",
              "      <td>&lt;p&gt;Has anyone got experience creating &lt;strong&gt;...</td>\n",
              "    </tr>\n",
              "    <tr>\n",
              "      <th>3</th>\n",
              "      <td>180</td>\n",
              "      <td>2089740.0</td>\n",
              "      <td>2008-08-01T18:42:19Z</td>\n",
              "      <td>NaN</td>\n",
              "      <td>53</td>\n",
              "      <td>Function for creating color wheels</td>\n",
              "      <td>&lt;p&gt;This is something I've pseudo-solved many t...</td>\n",
              "    </tr>\n",
              "    <tr>\n",
              "      <th>4</th>\n",
              "      <td>260</td>\n",
              "      <td>91.0</td>\n",
              "      <td>2008-08-01T23:22:08Z</td>\n",
              "      <td>NaN</td>\n",
              "      <td>49</td>\n",
              "      <td>Adding scripting functionality to .NET applica...</td>\n",
              "      <td>&lt;p&gt;I have a little game written in C#. It uses...</td>\n",
              "    </tr>\n",
              "  </tbody>\n",
              "</table>\n",
              "</div>"
            ],
            "text/plain": [
              "    Id  ...                                               Body\n",
              "0   80  ...  <p>I've written a database generation script i...\n",
              "1   90  ...  <p>Are there any really good tutorials explain...\n",
              "2  120  ...  <p>Has anyone got experience creating <strong>...\n",
              "3  180  ...  <p>This is something I've pseudo-solved many t...\n",
              "4  260  ...  <p>I have a little game written in C#. It uses...\n",
              "\n",
              "[5 rows x 7 columns]"
            ]
          },
          "metadata": {
            "tags": []
          },
          "execution_count": 8
        }
      ]
    },
    {
      "cell_type": "code",
      "metadata": {
        "id": "cejmxuND8EvD",
        "colab_type": "code",
        "outputId": "f37b4a4a-8c13-496d-fbc7-b48b97b52924",
        "colab": {
          "base_uri": "https://localhost:8080/",
          "height": 217
        }
      },
      "source": [
        "ques.Id.value_counts()"
      ],
      "execution_count": 9,
      "outputs": [
        {
          "output_type": "execute_result",
          "data": {
            "text/plain": [
              "36426850    1\n",
              "25323800    1\n",
              "21154060    1\n",
              "13862910    1\n",
              "25176690    1\n",
              "           ..\n",
              "5260450     1\n",
              "37136770    1\n",
              "15758500    1\n",
              "9462950     1\n",
              "10485760    1\n",
              "Name: Id, Length: 1264216, dtype: int64"
            ]
          },
          "metadata": {
            "tags": []
          },
          "execution_count": 9
        }
      ]
    },
    {
      "cell_type": "code",
      "metadata": {
        "id": "r2Wdh7tTwJQM",
        "colab_type": "code",
        "outputId": "0c46360a-0343-4464-e0cc-e0e87fab129e",
        "colab": {
          "base_uri": "https://localhost:8080/",
          "height": 297
        }
      },
      "source": [
        "inner = pd.merge(left=ques,right=tags,how='left', left_on='Id', right_on='Id')\n",
        "print(inner.shape)\n",
        "inner.head()"
      ],
      "execution_count": 10,
      "outputs": [
        {
          "output_type": "stream",
          "text": [
            "(3750994, 8)\n"
          ],
          "name": "stdout"
        },
        {
          "output_type": "execute_result",
          "data": {
            "text/html": [
              "<div>\n",
              "<style scoped>\n",
              "    .dataframe tbody tr th:only-of-type {\n",
              "        vertical-align: middle;\n",
              "    }\n",
              "\n",
              "    .dataframe tbody tr th {\n",
              "        vertical-align: top;\n",
              "    }\n",
              "\n",
              "    .dataframe thead th {\n",
              "        text-align: right;\n",
              "    }\n",
              "</style>\n",
              "<table border=\"1\" class=\"dataframe\">\n",
              "  <thead>\n",
              "    <tr style=\"text-align: right;\">\n",
              "      <th></th>\n",
              "      <th>Id</th>\n",
              "      <th>OwnerUserId</th>\n",
              "      <th>CreationDate</th>\n",
              "      <th>ClosedDate</th>\n",
              "      <th>Score</th>\n",
              "      <th>Title</th>\n",
              "      <th>Body</th>\n",
              "      <th>Tag</th>\n",
              "    </tr>\n",
              "  </thead>\n",
              "  <tbody>\n",
              "    <tr>\n",
              "      <th>0</th>\n",
              "      <td>80</td>\n",
              "      <td>26.0</td>\n",
              "      <td>2008-08-01T13:57:07Z</td>\n",
              "      <td>NaN</td>\n",
              "      <td>26</td>\n",
              "      <td>SQLStatement.execute() - multiple queries in o...</td>\n",
              "      <td>&lt;p&gt;I've written a database generation script i...</td>\n",
              "      <td>flex</td>\n",
              "    </tr>\n",
              "    <tr>\n",
              "      <th>1</th>\n",
              "      <td>80</td>\n",
              "      <td>26.0</td>\n",
              "      <td>2008-08-01T13:57:07Z</td>\n",
              "      <td>NaN</td>\n",
              "      <td>26</td>\n",
              "      <td>SQLStatement.execute() - multiple queries in o...</td>\n",
              "      <td>&lt;p&gt;I've written a database generation script i...</td>\n",
              "      <td>actionscript-3</td>\n",
              "    </tr>\n",
              "    <tr>\n",
              "      <th>2</th>\n",
              "      <td>80</td>\n",
              "      <td>26.0</td>\n",
              "      <td>2008-08-01T13:57:07Z</td>\n",
              "      <td>NaN</td>\n",
              "      <td>26</td>\n",
              "      <td>SQLStatement.execute() - multiple queries in o...</td>\n",
              "      <td>&lt;p&gt;I've written a database generation script i...</td>\n",
              "      <td>air</td>\n",
              "    </tr>\n",
              "    <tr>\n",
              "      <th>3</th>\n",
              "      <td>90</td>\n",
              "      <td>58.0</td>\n",
              "      <td>2008-08-01T14:41:24Z</td>\n",
              "      <td>2012-12-26T03:45:49Z</td>\n",
              "      <td>144</td>\n",
              "      <td>Good branching and merging tutorials for Torto...</td>\n",
              "      <td>&lt;p&gt;Are there any really good tutorials explain...</td>\n",
              "      <td>svn</td>\n",
              "    </tr>\n",
              "    <tr>\n",
              "      <th>4</th>\n",
              "      <td>90</td>\n",
              "      <td>58.0</td>\n",
              "      <td>2008-08-01T14:41:24Z</td>\n",
              "      <td>2012-12-26T03:45:49Z</td>\n",
              "      <td>144</td>\n",
              "      <td>Good branching and merging tutorials for Torto...</td>\n",
              "      <td>&lt;p&gt;Are there any really good tutorials explain...</td>\n",
              "      <td>tortoisesvn</td>\n",
              "    </tr>\n",
              "  </tbody>\n",
              "</table>\n",
              "</div>"
            ],
            "text/plain": [
              "   Id  ...             Tag\n",
              "0  80  ...            flex\n",
              "1  80  ...  actionscript-3\n",
              "2  80  ...             air\n",
              "3  90  ...             svn\n",
              "4  90  ...     tortoisesvn\n",
              "\n",
              "[5 rows x 8 columns]"
            ]
          },
          "metadata": {
            "tags": []
          },
          "execution_count": 10
        }
      ]
    },
    {
      "cell_type": "code",
      "metadata": {
        "id": "diRGbhmrxB0K",
        "colab_type": "code",
        "outputId": "1e127278-357e-4910-d11c-dde5e5ef4373",
        "colab": {
          "base_uri": "https://localhost:8080/",
          "height": 201
        }
      },
      "source": [
        "k = inner.Tag.value_counts().nlargest(10) #k = inner.Tag.value_counts().head(10) \n",
        "print(k) "
      ],
      "execution_count": 11,
      "outputs": [
        {
          "output_type": "stream",
          "text": [
            "javascript    124155\n",
            "java          115212\n",
            "c#            101186\n",
            "php            98808\n",
            "android        90659\n",
            "jquery         78542\n",
            "python         64601\n",
            "html           58976\n",
            "c++            47591\n",
            "ios            47009\n",
            "Name: Tag, dtype: int64\n"
          ],
          "name": "stdout"
        }
      ]
    },
    {
      "cell_type": "code",
      "metadata": {
        "id": "lWYoC845FrqG",
        "colab_type": "code",
        "outputId": "e87759c9-4355-4b47-cce5-fd82da8636e9",
        "colab": {
          "base_uri": "https://localhost:8080/",
          "height": 84
        }
      },
      "source": [
        "tag = k.index\n",
        "count = k.values\n",
        "print(\"Most occurring Tags are :\", tag)\n",
        "print(\"Counts of the top 10 Tags :\", count)"
      ],
      "execution_count": 12,
      "outputs": [
        {
          "output_type": "stream",
          "text": [
            "Most occurring Tags are : Index(['javascript', 'java', 'c#', 'php', 'android', 'jquery', 'python',\n",
            "       'html', 'c++', 'ios'],\n",
            "      dtype='object')\n",
            "Counts of the top 10 Tags : [124155 115212 101186  98808  90659  78542  64601  58976  47591  47009]\n"
          ],
          "name": "stdout"
        }
      ]
    },
    {
      "cell_type": "code",
      "metadata": {
        "id": "VRAtnOADGRr5",
        "colab_type": "code",
        "outputId": "28fb97e1-99a5-4775-87d5-b727dfdd1403",
        "colab": {
          "base_uri": "https://localhost:8080/",
          "height": 310
        }
      },
      "source": [
        "#printing the most occurring tags \n",
        "y_pos = np.arange(len(tag))\n",
        "#print(y_pos)\n",
        "plt.bar(y_pos, count, color = list('rgbkymc'))\n",
        "plt.xticks(y_pos, tag, rotation = 40)\n",
        "plt.ylabel('Count of the label')\n",
        "plt.title('Most occurring tags')\n",
        "plt.show()"
      ],
      "execution_count": 13,
      "outputs": [
        {
          "output_type": "display_data",
          "data": {
            "image/png": "[encoded data removed]",
            "text/plain": [
              "<Figure size 432x288 with 1 Axes>"
            ]
          },
          "metadata": {
            "tags": []
          }
        }
      ]
    },
    {
      "cell_type": "code",
      "metadata": {
        "id": "Bijy1w9VWK7W",
        "colab_type": "code",
        "outputId": "0d0c6bfe-2401-4754-92df-42b8886b5f2b",
        "colab": {
          "base_uri": "https://localhost:8080/",
          "height": 280
        }
      },
      "source": [
        "l1 = ['javascript','java', 'c#','php','android', 'jquery','python','html','c++','ios']\n",
        "resample = inner[inner['Tag'].isin(l1)]\n",
        "resample.reset_index(inplace=True)\n",
        "resample.head()"
      ],
      "execution_count": 14,
      "outputs": [
        {
          "output_type": "execute_result",
          "data": {
            "text/html": [
              "<div>\n",
              "<style scoped>\n",
              "    .dataframe tbody tr th:only-of-type {\n",
              "        vertical-align: middle;\n",
              "    }\n",
              "\n",
              "    .dataframe tbody tr th {\n",
              "        vertical-align: top;\n",
              "    }\n",
              "\n",
              "    .dataframe thead th {\n",
              "        text-align: right;\n",
              "    }\n",
              "</style>\n",
              "<table border=\"1\" class=\"dataframe\">\n",
              "  <thead>\n",
              "    <tr style=\"text-align: right;\">\n",
              "      <th></th>\n",
              "      <th>index</th>\n",
              "      <th>Id</th>\n",
              "      <th>OwnerUserId</th>\n",
              "      <th>CreationDate</th>\n",
              "      <th>ClosedDate</th>\n",
              "      <th>Score</th>\n",
              "      <th>Title</th>\n",
              "      <th>Body</th>\n",
              "      <th>Tag</th>\n",
              "    </tr>\n",
              "  </thead>\n",
              "  <tbody>\n",
              "    <tr>\n",
              "      <th>0</th>\n",
              "      <td>14</td>\n",
              "      <td>260</td>\n",
              "      <td>91.0</td>\n",
              "      <td>2008-08-01T23:22:08Z</td>\n",
              "      <td>NaN</td>\n",
              "      <td>49</td>\n",
              "      <td>Adding scripting functionality to .NET applica...</td>\n",
              "      <td>&lt;p&gt;I have a little game written in C#. It uses...</td>\n",
              "      <td>c#</td>\n",
              "    </tr>\n",
              "    <tr>\n",
              "      <th>1</th>\n",
              "      <td>18</td>\n",
              "      <td>330</td>\n",
              "      <td>63.0</td>\n",
              "      <td>2008-08-02T02:51:36Z</td>\n",
              "      <td>NaN</td>\n",
              "      <td>29</td>\n",
              "      <td>Should I use nested classes in this case?</td>\n",
              "      <td>&lt;p&gt;I am working on a collection of classes use...</td>\n",
              "      <td>c++</td>\n",
              "    </tr>\n",
              "    <tr>\n",
              "      <th>2</th>\n",
              "      <td>28</td>\n",
              "      <td>650</td>\n",
              "      <td>143.0</td>\n",
              "      <td>2008-08-03T11:12:52Z</td>\n",
              "      <td>NaN</td>\n",
              "      <td>79</td>\n",
              "      <td>Automatically update version number</td>\n",
              "      <td>&lt;p&gt;I would like the version property of my app...</td>\n",
              "      <td>c#</td>\n",
              "    </tr>\n",
              "    <tr>\n",
              "      <th>3</th>\n",
              "      <td>35</td>\n",
              "      <td>930</td>\n",
              "      <td>245.0</td>\n",
              "      <td>2008-08-04T00:47:25Z</td>\n",
              "      <td>NaN</td>\n",
              "      <td>28</td>\n",
              "      <td>How do I connect to a database and loop over a...</td>\n",
              "      <td>&lt;p&gt;What's the simplest way to connect and quer...</td>\n",
              "      <td>c#</td>\n",
              "    </tr>\n",
              "    <tr>\n",
              "      <th>4</th>\n",
              "      <td>39</td>\n",
              "      <td>1010</td>\n",
              "      <td>67.0</td>\n",
              "      <td>2008-08-04T03:59:42Z</td>\n",
              "      <td>NaN</td>\n",
              "      <td>14</td>\n",
              "      <td>How to get the value of built, encoded ViewState?</td>\n",
              "      <td>&lt;p&gt;I need to grab the base64-encoded represent...</td>\n",
              "      <td>c#</td>\n",
              "    </tr>\n",
              "  </tbody>\n",
              "</table>\n",
              "</div>"
            ],
            "text/plain": [
              "   index    Id  ...                                               Body  Tag\n",
              "0     14   260  ...  <p>I have a little game written in C#. It uses...   c#\n",
              "1     18   330  ...  <p>I am working on a collection of classes use...  c++\n",
              "2     28   650  ...  <p>I would like the version property of my app...   c#\n",
              "3     35   930  ...  <p>What's the simplest way to connect and quer...   c#\n",
              "4     39  1010  ...  <p>I need to grab the base64-encoded represent...   c#\n",
              "\n",
              "[5 rows x 9 columns]"
            ]
          },
          "metadata": {
            "tags": []
          },
          "execution_count": 14
        }
      ]
    },
    {
      "cell_type": "code",
      "metadata": {
        "id": "OfUmwLFvSogA",
        "colab_type": "code",
        "outputId": "45abd60e-37b4-4ae1-eb77-368150a57319",
        "colab": {
          "base_uri": "https://localhost:8080/",
          "height": 196
        }
      },
      "source": [
        "final = resample.drop(['index','Id','OwnerUserId','CreationDate','ClosedDate','Score'],1)\n",
        "final.head()"
      ],
      "execution_count": 15,
      "outputs": [
        {
          "output_type": "execute_result",
          "data": {
            "text/html": [
              "<div>\n",
              "<style scoped>\n",
              "    .dataframe tbody tr th:only-of-type {\n",
              "        vertical-align: middle;\n",
              "    }\n",
              "\n",
              "    .dataframe tbody tr th {\n",
              "        vertical-align: top;\n",
              "    }\n",
              "\n",
              "    .dataframe thead th {\n",
              "        text-align: right;\n",
              "    }\n",
              "</style>\n",
              "<table border=\"1\" class=\"dataframe\">\n",
              "  <thead>\n",
              "    <tr style=\"text-align: right;\">\n",
              "      <th></th>\n",
              "      <th>Title</th>\n",
              "      <th>Body</th>\n",
              "      <th>Tag</th>\n",
              "    </tr>\n",
              "  </thead>\n",
              "  <tbody>\n",
              "    <tr>\n",
              "      <th>0</th>\n",
              "      <td>Adding scripting functionality to .NET applica...</td>\n",
              "      <td>&lt;p&gt;I have a little game written in C#. It uses...</td>\n",
              "      <td>c#</td>\n",
              "    </tr>\n",
              "    <tr>\n",
              "      <th>1</th>\n",
              "      <td>Should I use nested classes in this case?</td>\n",
              "      <td>&lt;p&gt;I am working on a collection of classes use...</td>\n",
              "      <td>c++</td>\n",
              "    </tr>\n",
              "    <tr>\n",
              "      <th>2</th>\n",
              "      <td>Automatically update version number</td>\n",
              "      <td>&lt;p&gt;I would like the version property of my app...</td>\n",
              "      <td>c#</td>\n",
              "    </tr>\n",
              "    <tr>\n",
              "      <th>3</th>\n",
              "      <td>How do I connect to a database and loop over a...</td>\n",
              "      <td>&lt;p&gt;What's the simplest way to connect and quer...</td>\n",
              "      <td>c#</td>\n",
              "    </tr>\n",
              "    <tr>\n",
              "      <th>4</th>\n",
              "      <td>How to get the value of built, encoded ViewState?</td>\n",
              "      <td>&lt;p&gt;I need to grab the base64-encoded represent...</td>\n",
              "      <td>c#</td>\n",
              "    </tr>\n",
              "  </tbody>\n",
              "</table>\n",
              "</div>"
            ],
            "text/plain": [
              "                                               Title  ...  Tag\n",
              "0  Adding scripting functionality to .NET applica...  ...   c#\n",
              "1          Should I use nested classes in this case?  ...  c++\n",
              "2                Automatically update version number  ...   c#\n",
              "3  How do I connect to a database and loop over a...  ...   c#\n",
              "4  How to get the value of built, encoded ViewState?  ...   c#\n",
              "\n",
              "[5 rows x 3 columns]"
            ]
          },
          "metadata": {
            "tags": []
          },
          "execution_count": 15
        }
      ]
    },
    {
      "cell_type": "code",
      "metadata": {
        "id": "KPL-LJQzS7Uh",
        "colab_type": "code",
        "outputId": "f73ef497-22f4-44b3-c632-305a9a3df74d",
        "colab": {
          "base_uri": "https://localhost:8080/",
          "height": 213
        }
      },
      "source": [
        "final['content'] = final['Title']+final['Body']\n",
        "final.drop(['Title','Body'],1,inplace=True)\n",
        "print('Shape of the table :', final.shape)\n",
        "final.head()"
      ],
      "execution_count": 16,
      "outputs": [
        {
          "output_type": "stream",
          "text": [
            "Shape of the table : (826739, 2)\n"
          ],
          "name": "stdout"
        },
        {
          "output_type": "execute_result",
          "data": {
            "text/html": [
              "<div>\n",
              "<style scoped>\n",
              "    .dataframe tbody tr th:only-of-type {\n",
              "        vertical-align: middle;\n",
              "    }\n",
              "\n",
              "    .dataframe tbody tr th {\n",
              "        vertical-align: top;\n",
              "    }\n",
              "\n",
              "    .dataframe thead th {\n",
              "        text-align: right;\n",
              "    }\n",
              "</style>\n",
              "<table border=\"1\" class=\"dataframe\">\n",
              "  <thead>\n",
              "    <tr style=\"text-align: right;\">\n",
              "      <th></th>\n",
              "      <th>Tag</th>\n",
              "      <th>content</th>\n",
              "    </tr>\n",
              "  </thead>\n",
              "  <tbody>\n",
              "    <tr>\n",
              "      <th>0</th>\n",
              "      <td>c#</td>\n",
              "      <td>Adding scripting functionality to .NET applica...</td>\n",
              "    </tr>\n",
              "    <tr>\n",
              "      <th>1</th>\n",
              "      <td>c++</td>\n",
              "      <td>Should I use nested classes in this case?&lt;p&gt;I ...</td>\n",
              "    </tr>\n",
              "    <tr>\n",
              "      <th>2</th>\n",
              "      <td>c#</td>\n",
              "      <td>Automatically update version number&lt;p&gt;I would ...</td>\n",
              "    </tr>\n",
              "    <tr>\n",
              "      <th>3</th>\n",
              "      <td>c#</td>\n",
              "      <td>How do I connect to a database and loop over a...</td>\n",
              "    </tr>\n",
              "    <tr>\n",
              "      <th>4</th>\n",
              "      <td>c#</td>\n",
              "      <td>How to get the value of built, encoded ViewSta...</td>\n",
              "    </tr>\n",
              "  </tbody>\n",
              "</table>\n",
              "</div>"
            ],
            "text/plain": [
              "   Tag                                            content\n",
              "0   c#  Adding scripting functionality to .NET applica...\n",
              "1  c++  Should I use nested classes in this case?<p>I ...\n",
              "2   c#  Automatically update version number<p>I would ...\n",
              "3   c#  How do I connect to a database and loop over a...\n",
              "4   c#  How to get the value of built, encoded ViewSta..."
            ]
          },
          "metadata": {
            "tags": []
          },
          "execution_count": 16
        }
      ]
    },
    {
      "cell_type": "code",
      "metadata": {
        "id": "pLJP6tr4sXWO",
        "colab_type": "code",
        "outputId": "8f4fc4f4-7bd9-4239-c63e-d494387b2c12",
        "colab": {
          "base_uri": "https://localhost:8080/",
          "height": 117
        }
      },
      "source": [
        "X = final['content']\n",
        "Y = final['Tag']\n",
        "X.head()"
      ],
      "execution_count": 17,
      "outputs": [
        {
          "output_type": "execute_result",
          "data": {
            "text/plain": [
              "0    Adding scripting functionality to .NET applica...\n",
              "1    Should I use nested classes in this case?<p>I ...\n",
              "2    Automatically update version number<p>I would ...\n",
              "3    How do I connect to a database and loop over a...\n",
              "4    How to get the value of built, encoded ViewSta...\n",
              "Name: content, dtype: object"
            ]
          },
          "metadata": {
            "tags": []
          },
          "execution_count": 17
        }
      ]
    },
    {
      "cell_type": "markdown",
      "metadata": {
        "id": "jGECMzWd3fL7",
        "colab_type": "text"
      },
      "source": [
        "**Preprocessing of text by removing html tags single characters etc.**"
      ]
    },
    {
      "cell_type": "code",
      "metadata": {
        "id": "8hJx5DqNm7FU",
        "colab_type": "code",
        "colab": {}
      },
      "source": [
        "# removing HTML tags \n",
        "TAG_RE = re.compile(r'<[^>]+>')\n",
        "\n",
        "def remove_tags(text):\n",
        "    return TAG_RE.sub('', text)"
      ],
      "execution_count": 0,
      "outputs": []
    },
    {
      "cell_type": "code",
      "metadata": {
        "id": "W8YOPIr2rYrL",
        "colab_type": "code",
        "colab": {}
      },
      "source": [
        "X_new = []\n",
        "for i in X:\n",
        "   X_new.append(remove_tags(i))"
      ],
      "execution_count": 0,
      "outputs": []
    },
    {
      "cell_type": "code",
      "metadata": {
        "id": "5YBWM5YT2mXW",
        "colab_type": "code",
        "outputId": "bd9eb1fa-981f-4182-f493-c430e59c771b",
        "colab": {
          "base_uri": "https://localhost:8080/",
          "height": 196
        }
      },
      "source": [
        "X1 = pd.DataFrame(X_new, columns=['content'])\n",
        "X1.head()"
      ],
      "execution_count": 20,
      "outputs": [
        {
          "output_type": "execute_result",
          "data": {
            "text/html": [
              "<div>\n",
              "<style scoped>\n",
              "    .dataframe tbody tr th:only-of-type {\n",
              "        vertical-align: middle;\n",
              "    }\n",
              "\n",
              "    .dataframe tbody tr th {\n",
              "        vertical-align: top;\n",
              "    }\n",
              "\n",
              "    .dataframe thead th {\n",
              "        text-align: right;\n",
              "    }\n",
              "</style>\n",
              "<table border=\"1\" class=\"dataframe\">\n",
              "  <thead>\n",
              "    <tr style=\"text-align: right;\">\n",
              "      <th></th>\n",
              "      <th>content</th>\n",
              "    </tr>\n",
              "  </thead>\n",
              "  <tbody>\n",
              "    <tr>\n",
              "      <th>0</th>\n",
              "      <td>Adding scripting functionality to .NET applica...</td>\n",
              "    </tr>\n",
              "    <tr>\n",
              "      <th>1</th>\n",
              "      <td>Should I use nested classes in this case?I am ...</td>\n",
              "    </tr>\n",
              "    <tr>\n",
              "      <th>2</th>\n",
              "      <td>Automatically update version numberI would lik...</td>\n",
              "    </tr>\n",
              "    <tr>\n",
              "      <th>3</th>\n",
              "      <td>How do I connect to a database and loop over a...</td>\n",
              "    </tr>\n",
              "    <tr>\n",
              "      <th>4</th>\n",
              "      <td>How to get the value of built, encoded ViewSta...</td>\n",
              "    </tr>\n",
              "  </tbody>\n",
              "</table>\n",
              "</div>"
            ],
            "text/plain": [
              "                                             content\n",
              "0  Adding scripting functionality to .NET applica...\n",
              "1  Should I use nested classes in this case?I am ...\n",
              "2  Automatically update version numberI would lik...\n",
              "3  How do I connect to a database and loop over a...\n",
              "4  How to get the value of built, encoded ViewSta..."
            ]
          },
          "metadata": {
            "tags": []
          },
          "execution_count": 20
        }
      ]
    },
    {
      "cell_type": "markdown",
      "metadata": {
        "id": "NiiWE08xxCQw",
        "colab_type": "text"
      },
      "source": [
        "**remove special characters, numbers, punctuations**"
      ]
    },
    {
      "cell_type": "code",
      "metadata": {
        "id": "FPa-k1Dp3dBp",
        "colab_type": "code",
        "outputId": "e1c125e9-c9d5-47ae-9cee-8b243f988ed7",
        "colab": {
          "base_uri": "https://localhost:8080/",
          "height": 196
        }
      },
      "source": [
        "X1['refined_text'] = X1['content'].str.replace(\"[^a-zA-Z]\", \" \")\n",
        "X1.head()"
      ],
      "execution_count": 21,
      "outputs": [
        {
          "output_type": "execute_result",
          "data": {
            "text/html": [
              "<div>\n",
              "<style scoped>\n",
              "    .dataframe tbody tr th:only-of-type {\n",
              "        vertical-align: middle;\n",
              "    }\n",
              "\n",
              "    .dataframe tbody tr th {\n",
              "        vertical-align: top;\n",
              "    }\n",
              "\n",
              "    .dataframe thead th {\n",
              "        text-align: right;\n",
              "    }\n",
              "</style>\n",
              "<table border=\"1\" class=\"dataframe\">\n",
              "  <thead>\n",
              "    <tr style=\"text-align: right;\">\n",
              "      <th></th>\n",
              "      <th>content</th>\n",
              "      <th>refined_text</th>\n",
              "    </tr>\n",
              "  </thead>\n",
              "  <tbody>\n",
              "    <tr>\n",
              "      <th>0</th>\n",
              "      <td>Adding scripting functionality to .NET applica...</td>\n",
              "      <td>Adding scripting functionality to  NET applica...</td>\n",
              "    </tr>\n",
              "    <tr>\n",
              "      <th>1</th>\n",
              "      <td>Should I use nested classes in this case?I am ...</td>\n",
              "      <td>Should I use nested classes in this case I am ...</td>\n",
              "    </tr>\n",
              "    <tr>\n",
              "      <th>2</th>\n",
              "      <td>Automatically update version numberI would lik...</td>\n",
              "      <td>Automatically update version numberI would lik...</td>\n",
              "    </tr>\n",
              "    <tr>\n",
              "      <th>3</th>\n",
              "      <td>How do I connect to a database and loop over a...</td>\n",
              "      <td>How do I connect to a database and loop over a...</td>\n",
              "    </tr>\n",
              "    <tr>\n",
              "      <th>4</th>\n",
              "      <td>How to get the value of built, encoded ViewSta...</td>\n",
              "      <td>How to get the value of built  encoded ViewSta...</td>\n",
              "    </tr>\n",
              "  </tbody>\n",
              "</table>\n",
              "</div>"
            ],
            "text/plain": [
              "                                             content                                       refined_text\n",
              "0  Adding scripting functionality to .NET applica...  Adding scripting functionality to  NET applica...\n",
              "1  Should I use nested classes in this case?I am ...  Should I use nested classes in this case I am ...\n",
              "2  Automatically update version numberI would lik...  Automatically update version numberI would lik...\n",
              "3  How do I connect to a database and loop over a...  How do I connect to a database and loop over a...\n",
              "4  How to get the value of built, encoded ViewSta...  How to get the value of built  encoded ViewSta..."
            ]
          },
          "metadata": {
            "tags": []
          },
          "execution_count": 21
        }
      ]
    },
    {
      "cell_type": "code",
      "metadata": {
        "id": "WuD7t-wQ3c9d",
        "colab_type": "code",
        "outputId": "66080ab0-5b0f-4ca9-f342-951a75d6ae74",
        "colab": {
          "base_uri": "https://localhost:8080/",
          "height": 196
        }
      },
      "source": [
        "X1.drop(['content'],1,inplace=True)\n",
        "X1.head()"
      ],
      "execution_count": 22,
      "outputs": [
        {
          "output_type": "execute_result",
          "data": {
            "text/html": [
              "<div>\n",
              "<style scoped>\n",
              "    .dataframe tbody tr th:only-of-type {\n",
              "        vertical-align: middle;\n",
              "    }\n",
              "\n",
              "    .dataframe tbody tr th {\n",
              "        vertical-align: top;\n",
              "    }\n",
              "\n",
              "    .dataframe thead th {\n",
              "        text-align: right;\n",
              "    }\n",
              "</style>\n",
              "<table border=\"1\" class=\"dataframe\">\n",
              "  <thead>\n",
              "    <tr style=\"text-align: right;\">\n",
              "      <th></th>\n",
              "      <th>refined_text</th>\n",
              "    </tr>\n",
              "  </thead>\n",
              "  <tbody>\n",
              "    <tr>\n",
              "      <th>0</th>\n",
              "      <td>Adding scripting functionality to  NET applica...</td>\n",
              "    </tr>\n",
              "    <tr>\n",
              "      <th>1</th>\n",
              "      <td>Should I use nested classes in this case I am ...</td>\n",
              "    </tr>\n",
              "    <tr>\n",
              "      <th>2</th>\n",
              "      <td>Automatically update version numberI would lik...</td>\n",
              "    </tr>\n",
              "    <tr>\n",
              "      <th>3</th>\n",
              "      <td>How do I connect to a database and loop over a...</td>\n",
              "    </tr>\n",
              "    <tr>\n",
              "      <th>4</th>\n",
              "      <td>How to get the value of built  encoded ViewSta...</td>\n",
              "    </tr>\n",
              "  </tbody>\n",
              "</table>\n",
              "</div>"
            ],
            "text/plain": [
              "                                        refined_text\n",
              "0  Adding scripting functionality to  NET applica...\n",
              "1  Should I use nested classes in this case I am ...\n",
              "2  Automatically update version numberI would lik...\n",
              "3  How do I connect to a database and loop over a...\n",
              "4  How to get the value of built  encoded ViewSta..."
            ]
          },
          "metadata": {
            "tags": []
          },
          "execution_count": 22
        }
      ]
    },
    {
      "cell_type": "markdown",
      "metadata": {
        "id": "Ddd9xVV15zTR",
        "colab_type": "text"
      },
      "source": [
        "**Converting Labels to binary encoded form**"
      ]
    },
    {
      "cell_type": "code",
      "metadata": {
        "id": "mWzdXFNnvDNr",
        "colab_type": "code",
        "outputId": "0f6ef0f6-22c0-4f88-a459-84240cf3277f",
        "colab": {
          "base_uri": "https://localhost:8080/",
          "height": 134
        }
      },
      "source": [
        "le = LabelEncoder()\n",
        "Y_label = le.fit_transform(Y)\n",
        "Y_cat = utils.to_categorical(Y_label)\n",
        "Y_cat"
      ],
      "execution_count": 23,
      "outputs": [
        {
          "output_type": "execute_result",
          "data": {
            "text/plain": [
              "array([[0., 1., 0., ..., 0., 0., 0.],\n",
              "       [0., 0., 1., ..., 0., 0., 0.],\n",
              "       [0., 1., 0., ..., 0., 0., 0.],\n",
              "       ...,\n",
              "       [0., 0., 0., ..., 0., 1., 0.],\n",
              "       [1., 0., 0., ..., 0., 0., 0.],\n",
              "       [0., 0., 0., ..., 0., 0., 0.]], dtype=float32)"
            ]
          },
          "metadata": {
            "tags": []
          },
          "execution_count": 23
        }
      ]
    },
    {
      "cell_type": "code",
      "metadata": {
        "id": "vUI59Bu7u-3q",
        "colab_type": "code",
        "outputId": "e0ee33fa-e048-4f87-9b31-0e82c2372927",
        "colab": {
          "base_uri": "https://localhost:8080/",
          "height": 33
        }
      },
      "source": [
        "x_train, x_test, y_train, y_test = train_test_split(X1, Y_cat, test_size = 0.2)\n",
        "x_train.shape, y_train.shape, x_test.shape, y_test.shape"
      ],
      "execution_count": 24,
      "outputs": [
        {
          "output_type": "execute_result",
          "data": {
            "text/plain": [
              "((661391, 1), (661391, 10), (165348, 1), (165348, 10))"
            ]
          },
          "metadata": {
            "tags": []
          },
          "execution_count": 24
        }
      ]
    },
    {
      "cell_type": "code",
      "metadata": {
        "id": "vQfJkKMrLGw7",
        "colab_type": "code",
        "outputId": "f2f546ac-83d2-4357-ff81-09e9d31da74a",
        "colab": {
          "base_uri": "https://localhost:8080/",
          "height": 196
        }
      },
      "source": [
        "x_train.head()"
      ],
      "execution_count": 25,
      "outputs": [
        {
          "output_type": "execute_result",
          "data": {
            "text/html": [
              "<div>\n",
              "<style scoped>\n",
              "    .dataframe tbody tr th:only-of-type {\n",
              "        vertical-align: middle;\n",
              "    }\n",
              "\n",
              "    .dataframe tbody tr th {\n",
              "        vertical-align: top;\n",
              "    }\n",
              "\n",
              "    .dataframe thead th {\n",
              "        text-align: right;\n",
              "    }\n",
              "</style>\n",
              "<table border=\"1\" class=\"dataframe\">\n",
              "  <thead>\n",
              "    <tr style=\"text-align: right;\">\n",
              "      <th></th>\n",
              "      <th>refined_text</th>\n",
              "    </tr>\n",
              "  </thead>\n",
              "  <tbody>\n",
              "    <tr>\n",
              "      <th>486359</th>\n",
              "      <td>Contentflow   how to make caption text to dyna...</td>\n",
              "    </tr>\n",
              "    <tr>\n",
              "      <th>155588</th>\n",
              "      <td>Using SendMessage to enter text into an edit c...</td>\n",
              "    </tr>\n",
              "    <tr>\n",
              "      <th>110367</th>\n",
              "      <td>Using Multiple Detail Views with Split View Co...</td>\n",
              "    </tr>\n",
              "    <tr>\n",
              "      <th>456432</th>\n",
              "      <td>Problems with COM  Crystal Report      PHP   I...</td>\n",
              "    </tr>\n",
              "    <tr>\n",
              "      <th>345695</th>\n",
              "      <td>Jcrop button not working in safari or chromeI ...</td>\n",
              "    </tr>\n",
              "  </tbody>\n",
              "</table>\n",
              "</div>"
            ],
            "text/plain": [
              "                                             refined_text\n",
              "486359  Contentflow   how to make caption text to dyna...\n",
              "155588  Using SendMessage to enter text into an edit c...\n",
              "110367  Using Multiple Detail Views with Split View Co...\n",
              "456432  Problems with COM  Crystal Report      PHP   I...\n",
              "345695  Jcrop button not working in safari or chromeI ..."
            ]
          },
          "metadata": {
            "tags": []
          },
          "execution_count": 25
        }
      ]
    },
    {
      "cell_type": "code",
      "metadata": {
        "id": "xQfkUg2kuJv7",
        "colab_type": "code",
        "colab": {
          "base_uri": "https://localhost:8080/",
          "height": 50
        },
        "outputId": "8ad6a587-74ff-46be-e08f-942ca3b13316"
      },
      "source": [
        "x_train.dtypes"
      ],
      "execution_count": 37,
      "outputs": [
        {
          "output_type": "execute_result",
          "data": {
            "text/plain": [
              "refined_text    object\n",
              "dtype: object"
            ]
          },
          "metadata": {
            "tags": []
          },
          "execution_count": 37
        }
      ]
    },
    {
      "cell_type": "code",
      "metadata": {
        "id": "j5m_EIUNvdNf",
        "colab_type": "code",
        "colab": {
          "base_uri": "https://localhost:8080/",
          "height": 67
        },
        "outputId": "e599b4ab-80b4-4252-e196-02cad4d18bd6"
      },
      "source": [
        "import nltk\n",
        "nltk.download('punkt')  "
      ],
      "execution_count": 39,
      "outputs": [
        {
          "output_type": "stream",
          "text": [
            "[nltk_data] Downloading package punkt to /root/nltk_data...\n",
            "[nltk_data]   Unzipping tokenizers/punkt.zip.\n"
          ],
          "name": "stdout"
        },
        {
          "output_type": "execute_result",
          "data": {
            "text/plain": [
              "True"
            ]
          },
          "metadata": {
            "tags": []
          },
          "execution_count": 39
        }
      ]
    },
    {
      "cell_type": "code",
      "metadata": {
        "id": "jMbnd7dDveSl",
        "colab_type": "code",
        "colab": {
          "base_uri": "https://localhost:8080/",
          "height": 33
        },
        "outputId": "3cb7b01c-39aa-4607-ddb7-cf1e865e4897"
      },
      "source": [
        "sent_lens=[len(word_tokenize(x)) for x in x_train['refined_text']]\n",
        "print(max(sent_lens))"
      ],
      "execution_count": 43,
      "outputs": [
        {
          "output_type": "stream",
          "text": [
            "6992\n"
          ],
          "name": "stdout"
        }
      ]
    },
    {
      "cell_type": "code",
      "metadata": {
        "id": "Nt3Ft5hovhwY",
        "colab_type": "code",
        "colab": {
          "base_uri": "https://localhost:8080/",
          "height": 50
        },
        "outputId": "9bbec139-fc6d-467c-f340-48faff6a433e"
      },
      "source": [
        "print(np.percentile(sent_lens,99))\n",
        "np.percentile(sent_lens,95)"
      ],
      "execution_count": 44,
      "outputs": [
        {
          "output_type": "stream",
          "text": [
            "1138.0\n"
          ],
          "name": "stdout"
        },
        {
          "output_type": "execute_result",
          "data": {
            "text/plain": [
              "559.0"
            ]
          },
          "metadata": {
            "tags": []
          },
          "execution_count": 44
        }
      ]
    },
    {
      "cell_type": "code",
      "metadata": {
        "id": "KR_-GGZZtiiz",
        "colab_type": "code",
        "colab": {}
      },
      "source": [
        "max_len = 600"
      ],
      "execution_count": 0,
      "outputs": []
    },
    {
      "cell_type": "markdown",
      "metadata": {
        "id": "ZdHVomVQxLgM",
        "colab_type": "text"
      },
      "source": [
        "**Tokenazation Process**"
      ]
    },
    {
      "cell_type": "code",
      "metadata": {
        "id": "X2ZkcDyYt4pO",
        "colab_type": "code",
        "colab": {}
      },
      "source": [
        "tok = Tokenizer(lower=True, char_level = False, split=' ', num_words = 5000)\n",
        "tok.fit_on_texts(x_train['refined_text'])"
      ],
      "execution_count": 0,
      "outputs": []
    },
    {
      "cell_type": "code",
      "metadata": {
        "id": "lQyQssq9tJXr",
        "colab_type": "code",
        "colab": {}
      },
      "source": [
        "seq_train = tok.texts_to_sequences(x_train['refined_text'])\n",
        "seq_test = tok.texts_to_sequences(x_test['refined_text'])"
      ],
      "execution_count": 0,
      "outputs": []
    },
    {
      "cell_type": "code",
      "metadata": {
        "id": "i_otR76jI966",
        "colab_type": "code",
        "outputId": "5d253e8f-b18e-4bc4-bfaf-7ee6849a6a81",
        "colab": {
          "base_uri": "https://localhost:8080/",
          "height": 1000
        }
      },
      "source": [
        "seq_train[10]"
      ],
      "execution_count": 52,
      "outputs": [
        {
          "output_type": "execute_result",
          "data": {
            "text/plain": [
              "[140,\n",
              " 198,\n",
              " 942,\n",
              " 49,\n",
              " 608,\n",
              " 1200,\n",
              " 5,\n",
              " 3,\n",
              " 237,\n",
              " 316,\n",
              " 2058,\n",
              " 21,\n",
              " 105,\n",
              " 24,\n",
              " 23,\n",
              " 608,\n",
              " 4,\n",
              " 72,\n",
              " 5,\n",
              " 62,\n",
              " 23,\n",
              " 140,\n",
              " 17,\n",
              " 27,\n",
              " 118,\n",
              " 592,\n",
              " 49,\n",
              " 3,\n",
              " 608,\n",
              " 12,\n",
              " 3,\n",
              " 24,\n",
              " 118,\n",
              " 1200,\n",
              " 5,\n",
              " 237,\n",
              " 4,\n",
              " 72,\n",
              " 5,\n",
              " 62,\n",
              " 10,\n",
              " 316,\n",
              " 111,\n",
              " 39,\n",
              " 37,\n",
              " 4,\n",
              " 62,\n",
              " 11,\n",
              " 156,\n",
              " 14,\n",
              " 294,\n",
              " 3,\n",
              " 24,\n",
              " 16,\n",
              " 2216,\n",
              " 7,\n",
              " 3,\n",
              " 237,\n",
              " 17,\n",
              " 49,\n",
              " 3,\n",
              " 608,\n",
              " 1200,\n",
              " 5,\n",
              " 11,\n",
              " 118,\n",
              " 592,\n",
              " 3,\n",
              " 156,\n",
              " 27,\n",
              " 2,\n",
              " 24,\n",
              " 16,\n",
              " 1960,\n",
              " 1,\n",
              " 10,\n",
              " 24,\n",
              " 21,\n",
              " 2824,\n",
              " 2,\n",
              " 233,\n",
              " 1,\n",
              " 2,\n",
              " 233,\n",
              " 1,\n",
              " 2,\n",
              " 233,\n",
              " 1,\n",
              " 2,\n",
              " 233,\n",
              " 1,\n",
              " 2,\n",
              " 233,\n",
              " 1,\n",
              " 2,\n",
              " 233,\n",
              " 1,\n",
              " 2,\n",
              " 233,\n",
              " 1,\n",
              " 2,\n",
              " 233,\n",
              " 1,\n",
              " 2,\n",
              " 233,\n",
              " 1,\n",
              " 2,\n",
              " 233,\n",
              " 1,\n",
              " 2,\n",
              " 233,\n",
              " 1,\n",
              " 2,\n",
              " 233,\n",
              " 1,\n",
              " 2,\n",
              " 233,\n",
              " 1,\n",
              " 2,\n",
              " 233,\n",
              " 1,\n",
              " 2,\n",
              " 233,\n",
              " 1,\n",
              " 2,\n",
              " 233,\n",
              " 1,\n",
              " 2,\n",
              " 233,\n",
              " 1,\n",
              " 2,\n",
              " 233,\n",
              " 1,\n",
              " 2,\n",
              " 24,\n",
              " 16,\n",
              " 2216,\n",
              " 1,\n",
              " 10,\n",
              " 7,\n",
              " 3,\n",
              " 237,\n",
              " 17,\n",
              " 118,\n",
              " 592,\n",
              " 3,\n",
              " 27,\n",
              " 2,\n",
              " 24,\n",
              " 1,\n",
              " 2,\n",
              " 233,\n",
              " 1,\n",
              " 2,\n",
              " 233,\n",
              " 1,\n",
              " 2,\n",
              " 233,\n",
              " 1,\n",
              " 2,\n",
              " 233,\n",
              " 1,\n",
              " 2,\n",
              " 233,\n",
              " 1,\n",
              " 2,\n",
              " 233,\n",
              " 1,\n",
              " 2,\n",
              " 233,\n",
              " 1,\n",
              " 2,\n",
              " 233,\n",
              " 1,\n",
              " 2,\n",
              " 233,\n",
              " 1,\n",
              " 2,\n",
              " 233,\n",
              " 1,\n",
              " 2,\n",
              " 233,\n",
              " 1,\n",
              " 2,\n",
              " 233,\n",
              " 1,\n",
              " 2,\n",
              " 233,\n",
              " 1,\n",
              " 2,\n",
              " 233,\n",
              " 1,\n",
              " 2,\n",
              " 233,\n",
              " 1,\n",
              " 2,\n",
              " 233,\n",
              " 1,\n",
              " 2,\n",
              " 233,\n",
              " 1,\n",
              " 2,\n",
              " 233,\n",
              " 1,\n",
              " 2,\n",
              " 24,\n",
              " 1,\n",
              " 10,\n",
              " 7,\n",
              " 3,\n",
              " 27,\n",
              " 17,\n",
              " 4,\n",
              " 72,\n",
              " 5,\n",
              " 592,\n",
              " 49,\n",
              " 3,\n",
              " 608,\n",
              " 1200,\n",
              " 5,\n",
              " 3,\n",
              " 237,\n",
              " 27,\n",
              " 156,\n",
              " 154,\n",
              " 298,\n",
              " 152]"
            ]
          },
          "metadata": {
            "tags": []
          },
          "execution_count": 52
        }
      ]
    },
    {
      "cell_type": "code",
      "metadata": {
        "id": "V4BV9n2rM2r2",
        "colab_type": "code",
        "outputId": "1c907f57-9dd3-46ed-a5d0-9f46620f88e0",
        "colab": {
          "base_uri": "https://localhost:8080/",
          "height": 33
        }
      },
      "source": [
        "vocab_size=len(tok.word_index)\n",
        "vocab_size"
      ],
      "execution_count": 53,
      "outputs": [
        {
          "output_type": "execute_result",
          "data": {
            "text/plain": [
              "1355841"
            ]
          },
          "metadata": {
            "tags": []
          },
          "execution_count": 53
        }
      ]
    },
    {
      "cell_type": "markdown",
      "metadata": {
        "id": "hHeFmRJLxSo3",
        "colab_type": "text"
      },
      "source": [
        "**Parameters setting**"
      ]
    },
    {
      "cell_type": "code",
      "metadata": {
        "id": "Og4UVe0CwBWW",
        "colab_type": "code",
        "colab": {}
      },
      "source": [
        "# set parameters:\n",
        "max_features = 5000\n",
        "batch_size = 64\n",
        "embedding_dims = 50\n",
        "filters = 250\n",
        "hidden_dims = 250\n",
        "kernel_size = 3\n",
        "epochs = 2"
      ],
      "execution_count": 0,
      "outputs": []
    },
    {
      "cell_type": "code",
      "metadata": {
        "id": "-mz0JROLuKN8",
        "colab_type": "code",
        "colab": {}
      },
      "source": [
        "seq_train_matrix = pad_sequences(seq_train,maxlen = max_len)\n",
        "seq_test_matrix = pad_sequences(seq_test,maxlen = max_len)"
      ],
      "execution_count": 0,
      "outputs": []
    },
    {
      "cell_type": "code",
      "metadata": {
        "id": "53SJVU_vIf4E",
        "colab_type": "code",
        "colab": {
          "base_uri": "https://localhost:8080/",
          "height": 33
        },
        "outputId": "6664b415-ba91-43b1-ec29-daf047464189"
      },
      "source": [
        "seq_train_matrix[10]"
      ],
      "execution_count": 66,
      "outputs": [
        {
          "output_type": "execute_result",
          "data": {
            "text/plain": [
              "array([  0,   0,   0, ..., 154, 298, 152], dtype=int32)"
            ]
          },
          "metadata": {
            "tags": []
          },
          "execution_count": 66
        }
      ]
    },
    {
      "cell_type": "markdown",
      "metadata": {
        "id": "dNl4RYEnxhG-",
        "colab_type": "text"
      },
      "source": [
        "**Model Building**"
      ]
    },
    {
      "cell_type": "code",
      "metadata": {
        "id": "FHjVEhJ_FLvP",
        "colab_type": "code",
        "colab": {}
      },
      "source": [
        "model = Sequential()\n",
        "model.add(Embedding(max_features+1,\n",
        "                    embedding_dims,\n",
        "                    input_length = max_len))\n",
        "model.add(Dropout(0.2))\n",
        "model.add(Conv1D(filters,\n",
        "                 kernel_size,\n",
        "                 padding = 'valid',\n",
        "                 activation = 'relu',\n",
        "                 strides = 1))\n",
        "# we use max pooling:\n",
        "model.add(GlobalMaxPooling1D())\n",
        "\n",
        "# We add a vanilla hidden layer:\n",
        "model.add(Dense(hidden_dims))\n",
        "model.add(Dropout(0.2))\n",
        "model.add(Activation('relu'))\n",
        "\n",
        "# We project onto a single unit output layer, and squash it with a sigmoid:\n",
        "model.add(Dense(10))\n",
        "model.add(Activation('softmax'))"
      ],
      "execution_count": 0,
      "outputs": []
    },
    {
      "cell_type": "code",
      "metadata": {
        "id": "dPR9hngwFzJ2",
        "colab_type": "code",
        "colab": {
          "base_uri": "https://localhost:8080/",
          "height": 452
        },
        "outputId": "8c75ba4f-0b3f-4539-f88c-903464831fd4"
      },
      "source": [
        "model.summary()"
      ],
      "execution_count": 72,
      "outputs": [
        {
          "output_type": "stream",
          "text": [
            "Model: \"sequential_4\"\n",
            "_________________________________________________________________\n",
            "Layer (type)                 Output Shape              Param #   \n",
            "=================================================================\n",
            "embedding_4 (Embedding)      (None, 1140, 50)          250050    \n",
            "_________________________________________________________________\n",
            "dropout_7 (Dropout)          (None, 1140, 50)          0         \n",
            "_________________________________________________________________\n",
            "conv1d_4 (Conv1D)            (None, 1138, 250)         37750     \n",
            "_________________________________________________________________\n",
            "global_max_pooling1d_4 (Glob (None, 250)               0         \n",
            "_________________________________________________________________\n",
            "dense_7 (Dense)              (None, 250)               62750     \n",
            "_________________________________________________________________\n",
            "dropout_8 (Dropout)          (None, 250)               0         \n",
            "_________________________________________________________________\n",
            "activation_7 (Activation)    (None, 250)               0         \n",
            "_________________________________________________________________\n",
            "dense_8 (Dense)              (None, 10)                2510      \n",
            "_________________________________________________________________\n",
            "activation_8 (Activation)    (None, 10)                0         \n",
            "=================================================================\n",
            "Total params: 353,060\n",
            "Trainable params: 353,060\n",
            "Non-trainable params: 0\n",
            "_________________________________________________________________\n"
          ],
          "name": "stdout"
        }
      ]
    },
    {
      "cell_type": "code",
      "metadata": {
        "id": "HuNDy693FYgk",
        "colab_type": "code",
        "colab": {}
      },
      "source": [
        "model.compile(loss='categorical_crossentropy',\n",
        "              optimizer='adam',\n",
        "              metrics=['accuracy'])"
      ],
      "execution_count": 0,
      "outputs": []
    },
    {
      "cell_type": "code",
      "metadata": {
        "id": "RcHDixi2FZjD",
        "colab_type": "code",
        "colab": {
          "base_uri": "https://localhost:8080/",
          "height": 455
        },
        "outputId": "567c8d89-4859-4084-b2f3-2a108d522c22"
      },
      "source": [
        "model.fit(seq_train_matrix, y_train,\n",
        "          batch_size=batch_size,\n",
        "          epochs=epochs,\n",
        "          validation_data=(seq_test_matrix, y_test))"
      ],
      "execution_count": 74,
      "outputs": [
        {
          "output_type": "stream",
          "text": [
            "WARNING:tensorflow:From /usr/local/lib/python3.6/dist-packages/tensorflow_core/python/ops/math_grad.py:1424: where (from tensorflow.python.ops.array_ops) is deprecated and will be removed in a future version.\n",
            "Instructions for updating:\n",
            "Use tf.where in 2.0, which has the same broadcast rule as np.where\n",
            "WARNING:tensorflow:From /usr/local/lib/python3.6/dist-packages/keras/backend/tensorflow_backend.py:1033: The name tf.assign_add is deprecated. Please use tf.compat.v1.assign_add instead.\n",
            "\n",
            "WARNING:tensorflow:From /usr/local/lib/python3.6/dist-packages/keras/backend/tensorflow_backend.py:1020: The name tf.assign is deprecated. Please use tf.compat.v1.assign instead.\n",
            "\n",
            "WARNING:tensorflow:From /usr/local/lib/python3.6/dist-packages/keras/backend/tensorflow_backend.py:3005: The name tf.Session is deprecated. Please use tf.compat.v1.Session instead.\n",
            "\n",
            "Train on 661391 samples, validate on 165348 samples\n",
            "Epoch 1/2\n",
            "WARNING:tensorflow:From /usr/local/lib/python3.6/dist-packages/keras/backend/tensorflow_backend.py:190: The name tf.get_default_session is deprecated. Please use tf.compat.v1.get_default_session instead.\n",
            "\n",
            "WARNING:tensorflow:From /usr/local/lib/python3.6/dist-packages/keras/backend/tensorflow_backend.py:197: The name tf.ConfigProto is deprecated. Please use tf.compat.v1.ConfigProto instead.\n",
            "\n",
            "WARNING:tensorflow:From /usr/local/lib/python3.6/dist-packages/keras/backend/tensorflow_backend.py:207: The name tf.global_variables is deprecated. Please use tf.compat.v1.global_variables instead.\n",
            "\n",
            "WARNING:tensorflow:From /usr/local/lib/python3.6/dist-packages/keras/backend/tensorflow_backend.py:216: The name tf.is_variable_initialized is deprecated. Please use tf.compat.v1.is_variable_initialized instead.\n",
            "\n",
            "WARNING:tensorflow:From /usr/local/lib/python3.6/dist-packages/keras/backend/tensorflow_backend.py:223: The name tf.variables_initializer is deprecated. Please use tf.compat.v1.variables_initializer instead.\n",
            "\n",
            "661391/661391 [==============================] - 162s 245us/step - loss: 0.6460 - acc: 0.7586 - val_loss: 0.5697 - val_acc: 0.7790\n",
            "Epoch 2/2\n",
            "661391/661391 [==============================] - 147s 223us/step - loss: 0.5721 - acc: 0.7796 - val_loss: 0.5591 - val_acc: 0.7829\n"
          ],
          "name": "stdout"
        },
        {
          "output_type": "execute_result",
          "data": {
            "text/plain": [
              "<keras.callbacks.History at 0x7f1d9fd72be0>"
            ]
          },
          "metadata": {
            "tags": []
          },
          "execution_count": 74
        }
      ]
    },
    {
      "cell_type": "code",
      "metadata": {
        "id": "Q-2SuYp5GU55",
        "colab_type": "code",
        "colab": {}
      },
      "source": [
        ""
      ],
      "execution_count": 0,
      "outputs": []
    }
  ]
}